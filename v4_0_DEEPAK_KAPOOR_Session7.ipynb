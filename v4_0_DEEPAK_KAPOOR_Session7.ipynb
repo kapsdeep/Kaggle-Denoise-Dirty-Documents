{
  "nbformat": 4,
  "nbformat_minor": 0,
  "metadata": {
    "colab": {
      "name": "v4.0_DEEPAK_KAPOOR_Session7.ipynb",
      "version": "0.3.2",
      "provenance": [],
      "collapsed_sections": []
    },
    "kernelspec": {
      "name": "python3",
      "display_name": "Python 3"
    },
    "accelerator": "GPU"
  },
  "cells": [
    {
      "metadata": {
        "id": "hvVgBfsN_TKo",
        "colab_type": "code",
        "colab": {
          "base_uri": "https://localhost:8080/",
          "height": 170
        },
        "outputId": "419cce84-abc1-447f-b1c4-66c878b379ad"
      },
      "cell_type": "code",
      "source": [
        "#Check if your runtime is GPU accelerated or not\n",
        "from tensorflow.python.client import device_lib\n",
        "hw = device_lib.list_local_devices()\n",
        "#print(hw)\n",
        "if \"GPU\" in str(hw):\n",
        "  print(\"Your runtime is GPU accelerated\")\n",
        "else:\n",
        "  print(\"Change runtime to GPU accelerated\")\n",
        "!ls\n",
        "!ls datalab/\n",
        "# !mkdir datalab_orig\n",
        "# !cp -rf datalab datalab_orig\n",
        "# !cp -rf datalab/train_orig/* datalab/train\n",
        "# !cp -rf datalab/train_cleaned_orig/* datalab/train_cleaned\n",
        "# !cp -rf datalab/test_orig/* datalab/test\n",
        "\n",
        "# !ls datalab/train_cleaned1\n",
        "# !mv datalab/train_cleaned1/*.png datalab/train_cleaned\n",
        "\n",
        "# !cp datalab/test1/* datalab/test/\n",
        "# !cp datalab/train1/* datalab/train/\n",
        "# !cp datalab/train_cleaned1/* datalab/train_cleaned/\n",
        "# !mkdir test_median\n",
        "# !mv *.png test_median\n",
        "# !rm test_median/background.png test_median/foreground_mask.png\n",
        "\n",
        "# !mkdir datalab/test_small\n",
        "# !mkdir datalab/train_small\n",
        "# !mkdir datalab/train_cleaned_small\n",
        "# !cp datalab/test/49.png datalab/test/61.png datalab/test/70.png datalab/test/64.png datalab/test/58.png datalab/test/67.png datalab/test/28.png datalab/test/16.png datalab/test/13.png datalab/test/10.png datalab/test/34.png datalab/test/22.png datalab/test/37.png datalab/test/25.png datalab/test/31.png datalab/test/19.png datalab/test/4.png datalab/test/43.png datalab/test/55.png datalab/test/7.png datalab/test/40.png datalab/test/1.png datalab/test/46.png datalab/test/52.png -t datalab/test_small\n",
        "# !cp datalab/train_cleaned/63.png datalab/train_cleaned/62.png datalab/train_cleaned/60.png datalab/train_cleaned/48.png datalab/train_cleaned/59.png datalab/train_cleaned/65.png datalab/train_cleaned/71.png datalab/train_cleaned/8.png datalab/train_cleaned/72.png datalab/train_cleaned/66.png datalab/train_cleaned/9.png datalab/train_cleaned/14.png datalab/train_cleaned/29.png datalab/train_cleaned/15.png datalab/train_cleaned/17.png datalab/train_cleaned/12.png datalab/train_cleaned/39.png datalab/train_cleaned/11.png datalab/train_cleaned/38.png datalab/train_cleaned/35.png datalab/train_cleaned/21.png datalab/train_cleaned/20.png datalab/train_cleaned/36.png datalab/train_cleaned/23.png datalab/train_cleaned/27.png datalab/train_cleaned/33.png datalab/train_cleaned/32.png datalab/train_cleaned/26.png datalab/train_cleaned/18.png datalab/train_cleaned/30.png datalab/train_cleaned/24.png datalab/train_cleaned/56.png datalab/train_cleaned/42.png datalab/train_cleaned/5.png datalab/train_cleaned/57.png datalab/train_cleaned/41.png datalab/train_cleaned/69.png datalab/train_cleaned/68.png datalab/train_cleaned/54.png datalab/train_cleaned/6.png datalab/train_cleaned/44.png datalab/train_cleaned/2.png datalab/train_cleaned/50.png datalab/train_cleaned/3.png datalab/train_cleaned/51.png datalab/train_cleaned/45.png datalab/train_cleaned/53.png datalab/train_cleaned/47.png -t datalab/train_cleaned_small\n",
        "# !cp datalab/train/63.png datalab/train/62.png datalab/train/60.png datalab/train/48.png datalab/train/59.png datalab/train/65.png datalab/train/71.png datalab/train/8.png datalab/train/72.png datalab/train/66.png datalab/train/9.png datalab/train/14.png datalab/train/29.png datalab/train/15.png datalab/train/17.png datalab/train/12.png datalab/train/39.png datalab/train/11.png datalab/train/38.png datalab/train/35.png datalab/train/21.png datalab/train/20.png datalab/train/36.png datalab/train/23.png datalab/train/27.png datalab/train/33.png datalab/train/32.png datalab/train/26.png datalab/train/18.png datalab/train/30.png datalab/train/24.png datalab/train/56.png datalab/train/42.png datalab/train/5.png datalab/train/57.png datalab/train/41.png datalab/train/69.png datalab/train/68.png datalab/train/54.png datalab/train/6.png datalab/train/44.png datalab/train/2.png datalab/train/50.png datalab/train/3.png datalab/train/51.png datalab/train/45.png datalab/train/53.png datalab/train/47.png -t datalab/train_small\n",
        "\n",
        "# !mkdir datalab/train_orig\n",
        "# !mkdir datalab/test_orig\n",
        "# !mkdir datalab/train_cleaned_orig\n",
        "# !cp -r datalab/train datalab/train_orig\n",
        "# !cp -r datalab/test datalab/test_orig\n",
        "# !cp -r datalab/train_cleaned datalab/train_cleaned_orig"
      ],
      "execution_count": 121,
      "outputs": [
        {
          "output_type": "stream",
          "text": [
            "Your runtime is GPU accelerated\n",
            "11.png\t20.png\t29.png\t36.png\t44.png\t53.png\t60.png\t69.png\tdatalab\n",
            "12.png\t21.png\t2.png\t38.png\t45.png\t54.png\t62.png\t6.png\tdatalab_orig\n",
            "14.png\t23.png\t30.png\t39.png\t47.png\t56.png\t63.png\t71.png\ttb\n",
            "15.png\t24.png\t32.png\t3.png\t48.png\t57.png\t65.png\t72.png\n",
            "17.png\t26.png\t33.png\t41.png\t50.png\t59.png\t66.png\t8.png\n",
            "18.png\t27.png\t35.png\t42.png\t51.png\t5.png\t68.png\t9.png\n",
            "adc.json  test_small  train_cleaned\t   train_small\n",
            "test\t  train       train_cleaned_small\n"
          ],
          "name": "stdout"
        }
      ]
    },
    {
      "metadata": {
        "id": "xVByAL_gnJA3",
        "colab_type": "code",
        "colab": {
          "base_uri": "https://localhost:8080/",
          "height": 187
        },
        "outputId": "2a165b73-37d1-4185-b266-d539511d6c63"
      },
      "cell_type": "code",
      "source": [
        "'''\n",
        "Calculate #layers using receptive field\n",
        "'''\n",
        "import math\n",
        "import numpy as np\n",
        "\n",
        "convnet=np.array([[3,1,2],[3,1,2],[1,1,0],[3,1,2],[3,1,2],[3,1,2],[1,1,0],[2,1,2]])\n",
        "layer_names = ['conv1','conv2','dropout1','conv3','conv4','conv5','dropout2','pool1']\n",
        "imsize = 540\n",
        "\n",
        "def calc_op_param(n, r, j):\n",
        "  for x in range(convnet.shape[0]):\n",
        "    n=((n-(convnet[x][0])+(2*convnet[x][2]))/convnet[x][1])+1\n",
        "    r=r+((convnet[x][0])-1)*j\n",
        "    j=j*convnet[x][1]\n",
        "    print('layer#',x,'n_out:',n,'r_out:',r,'j_out:',j)\n",
        "\n",
        "# input layer has following parameters\n",
        "n_in=imsize\n",
        "r_in=1\n",
        "j_in=1\n",
        "start_in=0.5\n",
        "print(convnet.shape[0])\n",
        "print(convnet[0][0])\n",
        "\n",
        "calc_op_param(n_in, r_in, j_in)"
      ],
      "execution_count": 7,
      "outputs": [
        {
          "output_type": "stream",
          "text": [
            "8\n",
            "3\n",
            "layer# 0 n_out: 542.0 r_out: 3 j_out: 1\n",
            "layer# 1 n_out: 544.0 r_out: 5 j_out: 1\n",
            "layer# 2 n_out: 544.0 r_out: 5 j_out: 1\n",
            "layer# 3 n_out: 546.0 r_out: 7 j_out: 1\n",
            "layer# 4 n_out: 548.0 r_out: 9 j_out: 1\n",
            "layer# 5 n_out: 550.0 r_out: 11 j_out: 1\n",
            "layer# 6 n_out: 550.0 r_out: 11 j_out: 1\n",
            "layer# 7 n_out: 553.0 r_out: 12 j_out: 1\n"
          ],
          "name": "stdout"
        }
      ]
    },
    {
      "metadata": {
        "id": "o_pVnOlPjGGZ",
        "colab_type": "code",
        "colab": {
          "base_uri": "https://localhost:8080/",
          "height": 85
        },
        "outputId": "61120855-91ef-4cfc-93d0-ad9b9f12e81a"
      },
      "cell_type": "code",
      "source": [
        "# !pip install joblib\n",
        "import concurrent.futures\n",
        "import csv\n",
        "import logging\n",
        "import random\n",
        "\n",
        "import joblib\n",
        "import numpy as np\n",
        "import sklearn.ensemble\n",
        "import sklearn.cross_validation\n",
        "import sklearn.metrics\n",
        "\n",
        "import skimage.data\n",
        "\n",
        "from pathlib import Path\n",
        "\n",
        "from PIL import Image as image\n",
        "\n",
        "TRAIN_DIR = Path(\"./datalab/train/\")\n",
        "TARGET_DIR = Path(\"./datalab/train_cleaned/\")\n",
        "TEST_DIR = Path(\"./datalab/test/\")\n",
        "\n",
        "CHUNKSIZE = 2000000\n",
        "\n",
        "logging.basicConfig(level=logging.INFO)\n",
        "\n",
        "def get_padded(imgarray, padding=1):\n",
        "    padval = int(round(imgarray.flatten().mean()))\n",
        "    rows, cols = imgarray.shape\n",
        "    xpad = np.full((rows, padding), padval, dtype='uint8')\n",
        "    ypad = np.full((padding, cols + 2 * padding), padval, dtype='uint8')\n",
        "    return np.vstack((ypad, np.hstack((xpad, imgarray, xpad)), ypad))\n",
        "\n",
        "def get_features_for_image(imgarray, padding=1):\n",
        "    rows, cols = imgarray.shape\n",
        "    padded = get_padded(imgarray, padding=padding)\n",
        "    features = []\n",
        "    return np.vstack(tuple(\n",
        "        np.vstack(tuple(\n",
        "            padded[i: i + 2 * padding + 1, j: j + 2 * padding + 1].reshape((1, -1))\n",
        "            for j in range(cols)\n",
        "        )) for i in range(rows)\n",
        "    ))\n",
        "\n",
        "def get_features_for_path(path, padding=1):\n",
        "    return get_features_for_image(skimage.data.imread(str(path)), padding=padding)\n",
        "\n",
        "def get_target_for_path(path):\n",
        "    return skimage.data.imread(str(path)).flatten() / 255\n",
        "\n",
        "def get_training_sets():\n",
        "    X = list(joblib.Parallel(n_jobs=-1)(\n",
        "        joblib.delayed(get_features_for_path)(i)\n",
        "        for i in TRAIN_DIR.iterdir()))\n",
        "    y = list(joblib.Parallel(n_jobs=-1)(\n",
        "        joblib.delayed(get_target_for_path)(i)\n",
        "        for i in TARGET_DIR.iterdir()))\n",
        "    X = np.concatenate(X)\n",
        "    y = np.concatenate(y)\n",
        "    logging.info(\"Finished loading\")\n",
        "    return X, y\n",
        "\n",
        "def get_model(X, y):\n",
        "    model = sklearn.ensemble.RandomForestRegressor(\n",
        "        n_estimators=0, warm_start=True, n_jobs=-1)\n",
        "    indices = list(range(0, X.shape[0], CHUNKSIZE))\n",
        "    indices.append(X.shape[0])\n",
        "    for i in range(len(indices) - 1):\n",
        "        if not (i + 1) % 10:\n",
        "            logging.info(\"Fitting {} of {}\".format(i + 1, len(indices) - 1))\n",
        "        start, end = indices[i], indices[i + 1]\n",
        "        model.set_params(n_estimators=model.get_params()[\"n_estimators\"] + 1)\n",
        "        model.fit(X[start: end], y[start: end])\n",
        "    logging.info(\"Finished Training\")\n",
        "    return model\n",
        "\n",
        "def get_index_and_features(path):\n",
        "    imgarray = skimage.data.imread(str(path))\n",
        "    X = get_features_for_image(imgarray)\n",
        "    index = []\n",
        "    for i in range(imgarray.shape[0]):\n",
        "        for j in range(imgarray.shape[1]):\n",
        "            index.append(\"{}_{}_{}\".format(path.stem, i + 1, j + 1))\n",
        "    return index, X\n",
        "\n",
        "def get_test_set():\n",
        "    index = []\n",
        "    X = []\n",
        "    for imgindex, imgfeatures in joblib.Parallel(n_jobs=-1)(\n",
        "            joblib.delayed(get_index_and_features)(i)\n",
        "            for i in TEST_DIR.iterdir()):\n",
        "        index.extend(imgindex)\n",
        "        X.append(imgfeatures)\n",
        "    logging.info(\"Finished Loading Test Set\")\n",
        "    X = np.vstack(X)\n",
        "    assert(len(index) == X.shape[0])\n",
        "    return index, X\n",
        "\n",
        "\n",
        "def write_submission(model, index, X, path):\n",
        "    with path.open('w', encoding='utf-8', newline='') as outf:\n",
        "        writer = csv.writer(outf)\n",
        "        writer.writerow(('id', 'value'))\n",
        "        writer.writerows(zip(index, model.predict(X)))\n",
        "    \n",
        "\n",
        "def main():\n",
        "    trainX, trainy = get_training_sets()\n",
        "    model = get_model(trainX, trainy)\n",
        "    index, testX = get_test_set()\n",
        "    write_submission(model, index, testX, Path(\"submission.csv\"))\n",
        "    \n",
        "if __name__ == \"__main__\":\n",
        "    main()"
      ],
      "execution_count": 0,
      "outputs": [
        {
          "output_type": "stream",
          "text": [
            "INFO:root:Finished loading\n",
            "INFO:root:Fitting 10 of 15\n",
            "INFO:root:Finished Training\n",
            "INFO:root:Finished Loading Test Set\n"
          ],
          "name": "stderr"
        }
      ]
    },
    {
      "metadata": {
        "id": "MZHU_bceThPb",
        "colab_type": "code",
        "colab": {
          "base_uri": "https://localhost:8080/",
          "height": 884
        },
        "outputId": "2b86d9bc-fc96-4de9-a24d-fd306a0bb319"
      },
      "cell_type": "code",
      "source": [
        "def check_number_of_pixels_imgdir(in_path):\n",
        "  '''\n",
        "  Number of Predictions (mandated by competition):\n",
        "  We expect the solution file to have 14230080 prediction rows. This file should have a header row. Please see sample submission file on the data page.\n",
        "  Below function calculates total entries arrived at using formula = (#images*img.shape[0]*img.shape[1])\n",
        "  '''\n",
        "  \n",
        "  import os\n",
        "  \n",
        "  t=0\n",
        "  for f in os.listdir(in_path):    \n",
        "    img = np.asarray(Image.open(out_path))\n",
        "    t += img.shape[0]*img.shape[1]\n",
        "  return t\n",
        "\n",
        "tick=time.time()\n",
        "print(check_number_of_pixels_imgdir('test_op/'))\n",
        "tock=time.time()\n",
        "print('time taken: '+str(tock-tick))"
      ],
      "execution_count": 0,
      "outputs": [
        {
          "output_type": "stream",
          "text": [
            "16329600\n",
            "time taken: 0.46344494819641113\n",
            "total 7368\n",
            "-rw-r--r-- 1 root root 151594 Jun 20 13:32 100.png\n",
            "-rw-r--r-- 1 root root 160977 Jun 20 13:32 103.png\n",
            "-rw-r--r-- 1 root root 153190 Jun 20 13:32 106.png\n",
            "-rw-r--r-- 1 root root 155287 Jun 20 13:32 109.png\n",
            "-rw-r--r-- 1 root root 146144 Jun 20 13:32 112.png\n",
            "-rw-r--r-- 1 root root 156257 Jun 20 13:32 115.png\n",
            "-rw-r--r-- 1 root root 148217 Jun 20 13:32 118.png\n",
            "-rw-r--r-- 1 root root 157995 Jun 20 13:32 121.png\n",
            "-rw-r--r-- 1 root root 148457 Jun 20 13:32 124.png\n",
            "-rw-r--r-- 1 root root 159234 Jun 20 13:32 127.png\n",
            "-rw-r--r-- 1 root root 150525 Jun 20 13:32 130.png\n",
            "-rw-r--r-- 1 root root 154069 Jun 20 13:32 133.png\n",
            "-rw-r--r-- 1 root root 144109 Jun 20 13:32 136.png\n",
            "-rw-r--r-- 1 root root 155563 Jun 20 13:32 139.png\n",
            "-rw-r--r-- 1 root root 146713 Jun 20 13:32 142.png\n",
            "-rw-r--r-- 1 root root 162468 Jun 20 13:32 145.png\n",
            "-rw-r--r-- 1 root root 155978 Jun 20 13:32 148.png\n",
            "-rw-r--r-- 1 root root 163517 Jun 20 13:32 151.png\n",
            "-rw-r--r-- 1 root root 157709 Jun 20 13:32 154.png\n",
            "-rw-r--r-- 1 root root 157199 Jun 20 13:32 157.png\n",
            "-rw-r--r-- 1 root root 149853 Jun 20 13:32 160.png\n",
            "-rw-r--r-- 1 root root 158231 Jun 20 13:32 163.png\n",
            "-rw-r--r-- 1 root root 152134 Jun 20 13:32 166.png\n",
            "-rw-r--r-- 1 root root 161381 Jun 20 13:32 169.png\n",
            "-rw-r--r-- 1 root root 153339 Jun 20 13:32 172.png\n",
            "-rw-r--r-- 1 root root 162427 Jun 20 13:32 175.png\n",
            "-rw-r--r-- 1 root root 155223 Jun 20 13:32 178.png\n",
            "-rw-r--r-- 1 root root 156813 Jun 20 13:32 181.png\n",
            "-rw-r--r-- 1 root root 147613 Jun 20 13:32 184.png\n",
            "-rw-r--r-- 1 root root 157754 Jun 20 13:32 187.png\n",
            "-rw-r--r-- 1 root root 150176 Jun 20 13:32 190.png\n",
            "-rw-r--r-- 1 root root 162403 Jun 20 13:32 193.png\n",
            "-rw-r--r-- 1 root root 154033 Jun 20 13:32 196.png\n",
            "-rw-r--r-- 1 root root 163954 Jun 20 13:32 199.png\n",
            "-rw-r--r-- 1 root root 155691 Jun 20 13:32 202.png\n",
            "-rw-r--r-- 1 root root 158586 Jun 20 13:32 205.png\n",
            "-rw-r--r-- 1 root root 149119 Jun 20 13:32 208.png\n",
            "-rw-r--r-- 1 root root 160087 Jun 20 13:32 211.png\n",
            "-rw-r--r-- 1 root root 151283 Jun 20 13:32 214.png\n",
            "-rw-r--r-- 1 root root 160173 Jun 20 13:32 73.png\n",
            "-rw-r--r-- 1 root root 152832 Jun 20 13:32 76.png\n",
            "-rw-r--r-- 1 root root 161363 Jun 20 13:32 79.png\n",
            "-rw-r--r-- 1 root root 154750 Jun 20 13:32 82.png\n",
            "-rw-r--r-- 1 root root 154791 Jun 20 13:32 85.png\n",
            "-rw-r--r-- 1 root root 146629 Jun 20 13:32 88.png\n",
            "-rw-r--r-- 1 root root 156294 Jun 20 13:32 91.png\n",
            "-rw-r--r-- 1 root root 149038 Jun 20 13:32 94.png\n",
            "-rw-r--r-- 1 root root 159910 Jun 20 13:32 97.png\n"
          ],
          "name": "stdout"
        }
      ]
    },
    {
      "metadata": {
        "id": "HZrkEiAgOpf8",
        "colab_type": "code",
        "colab": {
          "base_uri": "https://localhost:8080/",
          "height": 544
        },
        "outputId": "0dc07bdd-a0cb-471c-9d9b-cd15b3fdd913"
      },
      "cell_type": "code",
      "source": [
        "def download_dataset_to_collab(dataset):\n",
        "  '''\n",
        "  Google Drive is a tag-based (also called semantic) file system, which, for example, allows a file to be in several places at the same time \n",
        "  (just by adding IDs of folders to the file's parents property)\n",
        "  Hence to get the file/folder ID, navigate to the folder using browser & note the ID from URL \n",
        "  Ex: https://drive.google.com/drive/folders/1mZVxppM8dHFcoKdc9Vu9vS-n_GGnpCkO\n",
        "  '''\n",
        "  #Code to download files from google drive to collab using Pydrive\n",
        "\n",
        "  !pip install -U -q PyDrive\n",
        "\n",
        "  from pydrive.auth import GoogleAuth\n",
        "  from pydrive.drive import GoogleDrive\n",
        "  from google.colab import auth\n",
        "  from oauth2client.client import GoogleCredentials\n",
        "  import time\n",
        "\n",
        "  # 1. Authenticate and create the PyDrive client.\n",
        "  auth.authenticate_user()\n",
        "  gauth = GoogleAuth()\n",
        "  gauth.credentials = GoogleCredentials.get_application_default()\n",
        "  drive = GoogleDrive(gauth)\n",
        "\n",
        "  # Auto-iterate through all files in the folder ID.\n",
        "  start = time.time()\n",
        "  for key, value in dataset.items():\n",
        "    print(\"Initiating files copy from {} ...\".format(key))\n",
        "    file_list = drive.ListFile({'q': \"'{}' in parents and trashed=false\".format(value)}).GetList()      #file_list = drive.ListFile({'q': \"'1czmCOb4w0LiWetvQyhIxi6gGvJuAYb5F' in parents and trashed=false\"}).GetList()\n",
        "    for file1 in file_list:      \n",
        "      file6 = drive.CreateFile({'id': file1['id']}) # Initialize GoogleDriveFile instance with file id.\n",
        "      file6.GetContentFile(file1['title'])          # Download file as file1['title']\n",
        "    !mkdir 'datalab/'$key                           # move the data to folder in dictionary\n",
        "    !ls -l datalab/\n",
        "    !mv *.png 'datalab/'$key\n",
        "    !ls -l datalab/\n",
        "    print(\"Completed files copy from {}.\".format(key))\n",
        "\n",
        "  end = time.time()                                                                \n",
        "  return 'time taken:'+ str(end-start) +'seconds'\n",
        "\n",
        "dataset = {\n",
        "          #'<folder_name>':'<gdrive_folder_id>'\n",
        "          'train':'1mZVxppM8dHFcoKdc9Vu9vS-n_GGnpCkO', \n",
        "          'test':'1czmCOb4w0LiWetvQyhIxi6gGvJuAYb5F',\n",
        "          'train_cleaned':'1T4uCpfZueGsSUCu145FuEcPY_he6A2fQ'\n",
        "          }\n",
        "download_dataset_to_collab(dataset)"
      ],
      "execution_count": 87,
      "outputs": [
        {
          "output_type": "stream",
          "text": [
            "Initiating files copy from train ...\n",
            "total 8\n",
            "-rw-r--r-- 1 root root 2213 Jun 24 17:14 adc.json\n",
            "drwxr-xr-x 2 root root 4096 Jun 24 17:16 train\n",
            "total 8\n",
            "-rw-r--r-- 1 root root 2213 Jun 24 17:14 adc.json\n",
            "drwxr-xr-x 2 root root 4096 Jun 24 17:16 train\n",
            "Completed files copy from train.\n",
            "Initiating files copy from test ...\n",
            "total 12\n",
            "-rw-r--r-- 1 root root 2213 Jun 24 17:14 adc.json\n",
            "drwxr-xr-x 2 root root 4096 Jun 24 17:17 test\n",
            "drwxr-xr-x 2 root root 4096 Jun 24 17:16 train\n",
            "total 12\n",
            "-rw-r--r-- 1 root root 2213 Jun 24 17:14 adc.json\n",
            "drwxr-xr-x 2 root root 4096 Jun 24 17:17 test\n",
            "drwxr-xr-x 2 root root 4096 Jun 24 17:16 train\n",
            "Completed files copy from test.\n",
            "Initiating files copy from train_cleaned ...\n",
            "total 16\n",
            "-rw-r--r-- 1 root root 2213 Jun 24 17:14 adc.json\n",
            "drwxr-xr-x 2 root root 4096 Jun 24 17:17 test\n",
            "drwxr-xr-x 2 root root 4096 Jun 24 17:16 train\n",
            "drwxr-xr-x 2 root root 4096 Jun 24 17:19 train_cleaned\n",
            "total 16\n",
            "-rw-r--r-- 1 root root 2213 Jun 24 17:14 adc.json\n",
            "drwxr-xr-x 2 root root 4096 Jun 24 17:17 test\n",
            "drwxr-xr-x 2 root root 4096 Jun 24 17:16 train\n",
            "drwxr-xr-x 2 root root 4096 Jun 24 17:19 train_cleaned\n",
            "Completed files copy from train_cleaned.\n"
          ],
          "name": "stdout"
        },
        {
          "output_type": "execute_result",
          "data": {
            "text/plain": [
              "'time taken:277.1538667678833seconds'"
            ]
          },
          "metadata": {
            "tags": []
          },
          "execution_count": 87
        }
      ]
    },
    {
      "metadata": {
        "id": "tF8s5HA0shYQ",
        "colab_type": "code",
        "colab": {
          "base_uri": "https://localhost:8080/",
          "height": 975
        },
        "outputId": "d5cb2130-a698-4336-b8b4-37108ca1719b"
      },
      "cell_type": "code",
      "source": [
        "'''\n",
        "Evaluate image resizing using different libraries\n",
        "subplot: to show images side-by-side\n",
        "'''\n",
        "\n",
        "from skimage import img_as_float\n",
        "from skimage.transform import resize\n",
        "from skimage.io import imsave\n",
        "import cv2\n",
        "from matplotlib import pyplot as plt\n",
        "from pathlib import Path\n",
        "import os \n",
        "\n",
        "# TARGET_DIR=Path(os.path.join(os.getcwd(),Path(\"datalab/test_small\")))\n",
        "# for i in TARGET_DIR.iterdir():\n",
        "#   img = cv2.imread(str(i),0)\n",
        "  # plt.grid(False)\n",
        "  # plt.imshow(img)\n",
        "  # plt.show()\n",
        "  # print(img.shape)\n",
        "#   bottle_resized = resize(img, (420, 540),preserve_range=True)\n",
        "#   file = str(i).split('/')[4]\n",
        "  # plt.imshow(bottle_resized)\n",
        "  # plt.show()\n",
        "\n",
        "#   fig, axes = plt.subplots(nrows=1, ncols=2, sharey=True, figsize=(12, 6))\n",
        "#   ax = axes.ravel()\n",
        "#   plt.grid(False)\n",
        "#   ax[0].imshow(img, cmap='gray')\n",
        "#   ax[0].set_title(\"Original image\")\n",
        "#   ax[1].imshow(bottle_resized, cmap='gray')\n",
        "#   ax[1].set_title(\"Re-sized\")\n",
        "#   plt.tight_layout()\n",
        "#   plt.show()\n",
        "#   imsave(file,bottle_resized)\n",
        "print(x_test.shape)\n",
        "print(x_test[1])\n",
        "bottle_resized = resize(img_as_float(x_test[1]), (420, 540),preserve_range=True)\n",
        "print(bottle_resized.shape)\n",
        "print(bottle_resized.dtype)\n"
      ],
      "execution_count": 223,
      "outputs": [
        {
          "output_type": "stream",
          "text": [
            "(24, 258, 540, 1)\n",
            "[[[0.93359375]\n",
            "  [0.91015625]\n",
            "  [0.90234375]\n",
            "  ...\n",
            "  [0.66015625]\n",
            "  [0.6875    ]\n",
            "  [0.7265625 ]]\n",
            "\n",
            " [[0.90625   ]\n",
            "  [0.91015625]\n",
            "  [0.90234375]\n",
            "  ...\n",
            "  [0.5859375 ]\n",
            "  [0.625     ]\n",
            "  [0.703125  ]]\n",
            "\n",
            " [[0.91796875]\n",
            "  [0.9296875 ]\n",
            "  [0.921875  ]\n",
            "  ...\n",
            "  [0.61328125]\n",
            "  [0.58984375]\n",
            "  [0.6015625 ]]\n",
            "\n",
            " ...\n",
            "\n",
            " [[0.8125    ]\n",
            "  [0.80859375]\n",
            "  [0.8203125 ]\n",
            "  ...\n",
            "  [0.75390625]\n",
            "  [0.7421875 ]\n",
            "  [0.765625  ]]\n",
            "\n",
            " [[0.8203125 ]\n",
            "  [0.8359375 ]\n",
            "  [0.86328125]\n",
            "  ...\n",
            "  [0.7578125 ]\n",
            "  [0.77734375]\n",
            "  [0.828125  ]]\n",
            "\n",
            " [[0.85546875]\n",
            "  [0.8671875 ]\n",
            "  [0.875     ]\n",
            "  ...\n",
            "  [0.74609375]\n",
            "  [0.8046875 ]\n",
            "  [0.8671875 ]]]\n",
            "(420, 540, 1)\n",
            "float64\n"
          ],
          "name": "stdout"
        },
        {
          "output_type": "stream",
          "text": [
            "/usr/local/lib/python3.6/dist-packages/skimage/transform/_warps.py:84: UserWarning: The default mode, 'constant', will be changed to 'reflect' in skimage 0.15.\n",
            "  warn(\"The default mode, 'constant', will be changed to 'reflect' in \"\n"
          ],
          "name": "stderr"
        }
      ]
    },
    {
      "metadata": {
        "id": "YGJzRnh-qZxt",
        "colab_type": "code",
        "colab": {
          "base_uri": "https://localhost:8080/",
          "height": 2068
        },
        "outputId": "fbb26bf6-d1da-4f48-8932-7a3e908d0bd5"
      },
      "cell_type": "code",
      "source": [
        "'''\n",
        "  See random images from *small dir & verify sizes for all\n",
        "'''\n",
        "import cv2\n",
        "from matplotlib import pyplot as plt\n",
        "from pathlib import Path\n",
        "\n",
        "!ls\n",
        "!ls datalab/test_small_resized\n",
        "# !mkdir datalab/test_small_resized\n",
        "# !mv *.png datalab/test_small_resized\n",
        "\n",
        "img = cv2.imread('/content/datalab/test_small_resized/22.png',0)\n",
        "print(img.shape)\n",
        "plt.grid(False)\n",
        "plt.imshow(img)\n",
        "\n",
        "# img = cv2.imread('/content/datalab/train_small/11.png',0)\n",
        "# print(img.shape)\n",
        "# plt.imshow(img)\n",
        "# plt.show()\n",
        "\n",
        "TARGET_DIR=Path(os.path.join(os.getcwd(),Path(\"datalab/train_small_resized\")))\n",
        "for i in TARGET_DIR.iterdir():\n",
        "  print(i)\n",
        "  img = cv2.imread(str(i),0)\n",
        "  print(img.shape)"
      ],
      "execution_count": 156,
      "outputs": [
        {
          "output_type": "stream",
          "text": [
            "datalab  datalab_orig  tb\n",
            "10.png\t19.png\t25.png\t34.png\t43.png\t4.png\t58.png\t67.png\n",
            "13.png\t1.png\t28.png\t37.png\t46.png\t52.png\t61.png\t70.png\n",
            "16.png\t22.png\t31.png\t40.png\t49.png\t55.png\t64.png\t7.png\n",
            "(420, 540)\n",
            "/content/datalab/train_small_resized/14.png\n",
            "(420, 540)\n",
            "/content/datalab/train_small_resized/32.png\n",
            "(420, 540)\n",
            "/content/datalab/train_small_resized/65.png\n",
            "(420, 540)\n",
            "/content/datalab/train_small_resized/29.png\n",
            "(420, 540)\n",
            "/content/datalab/train_small_resized/59.png\n",
            "(420, 540)\n",
            "/content/datalab/train_small_resized/12.png\n",
            "(420, 540)\n",
            "/content/datalab/train_small_resized/62.png\n",
            "(420, 540)\n",
            "/content/datalab/train_small_resized/41.png\n",
            "(420, 540)\n",
            "/content/datalab/train_small_resized/63.png\n",
            "(420, 540)\n",
            "/content/datalab/train_small_resized/47.png\n",
            "(420, 540)\n",
            "/content/datalab/train_small_resized/30.png\n",
            "(420, 540)\n",
            "/content/datalab/train_small_resized/66.png\n",
            "(420, 540)\n",
            "/content/datalab/train_small_resized/68.png\n",
            "(420, 540)\n",
            "/content/datalab/train_small_resized/17.png\n",
            "(420, 540)\n",
            "/content/datalab/train_small_resized/57.png\n",
            "(420, 540)\n",
            "/content/datalab/train_small_resized/35.png\n",
            "(420, 540)\n",
            "/content/datalab/train_small_resized/15.png\n",
            "(420, 540)\n",
            "/content/datalab/train_small_resized/36.png\n",
            "(420, 540)\n",
            "/content/datalab/train_small_resized/6.png\n",
            "(420, 540)\n",
            "/content/datalab/train_small_resized/33.png\n",
            "(420, 540)\n",
            "/content/datalab/train_small_resized/5.png\n",
            "(420, 540)\n",
            "/content/datalab/train_small_resized/53.png\n",
            "(420, 540)\n",
            "/content/datalab/train_small_resized/45.png\n",
            "(420, 540)\n",
            "/content/datalab/train_small_resized/44.png\n",
            "(420, 540)\n",
            "/content/datalab/train_small_resized/11.png\n",
            "(420, 540)\n",
            "/content/datalab/train_small_resized/27.png\n",
            "(420, 540)\n",
            "/content/datalab/train_small_resized/72.png\n",
            "(420, 540)\n",
            "/content/datalab/train_small_resized/56.png\n",
            "(420, 540)\n",
            "/content/datalab/train_small_resized/9.png\n",
            "(420, 540)\n",
            "/content/datalab/train_small_resized/23.png\n",
            "(420, 540)\n",
            "/content/datalab/train_small_resized/51.png\n",
            "(420, 540)\n",
            "/content/datalab/train_small_resized/54.png\n",
            "(420, 540)\n",
            "/content/datalab/train_small_resized/20.png\n",
            "(420, 540)\n",
            "/content/datalab/train_small_resized/48.png\n",
            "(420, 540)\n",
            "/content/datalab/train_small_resized/39.png\n",
            "(420, 540)\n",
            "/content/datalab/train_small_resized/18.png\n",
            "(420, 540)\n",
            "/content/datalab/train_small_resized/71.png\n",
            "(420, 540)\n",
            "/content/datalab/train_small_resized/21.png\n",
            "(420, 540)\n",
            "/content/datalab/train_small_resized/69.png\n",
            "(420, 540)\n",
            "/content/datalab/train_small_resized/24.png\n",
            "(420, 540)\n",
            "/content/datalab/train_small_resized/60.png\n",
            "(420, 540)\n",
            "/content/datalab/train_small_resized/50.png\n",
            "(420, 540)\n",
            "/content/datalab/train_small_resized/38.png\n",
            "(420, 540)\n",
            "/content/datalab/train_small_resized/26.png\n",
            "(420, 540)\n",
            "/content/datalab/train_small_resized/8.png\n",
            "(420, 540)\n",
            "/content/datalab/train_small_resized/3.png\n",
            "(420, 540)\n",
            "/content/datalab/train_small_resized/2.png\n",
            "(420, 540)\n",
            "/content/datalab/train_small_resized/42.png\n",
            "(420, 540)\n"
          ],
          "name": "stdout"
        },
        {
          "output_type": "display_data",
          "data": {
            "image/png": "[encoded data removed]",
            "text/plain": [
              "<matplotlib.figure.Figure at 0x7f4d005eb208>"
            ]
          },
          "metadata": {
            "tags": []
          }
        }
      ]
    },
    {
      "metadata": {
        "id": "z6cRO9BeAO37",
        "colab_type": "code",
        "colab": {
          "base_uri": "https://localhost:8080/",
          "height": 911
        },
        "outputId": "8ad87942-0196-42d2-851d-d31a6edce755"
      },
      "cell_type": "code",
      "source": [
        "# !cp -r datalab/test_small_resized/* datalab/test\n",
        "# !cp -r datalab/train_small_resized/* datalab/train\n",
        "# !cp -r datalab/train_cleaned_small_resized/* datalab/train_cleaned\n",
        "!ls datalab/train | wc -l\n",
        "!ls datalab/train\n",
        "!ls datalab/train_cleaned | wc -l \n",
        "!ls datalab/test | wc -l \n",
        "!ls datalab/test\n",
        "!echo 'train_small_resize'\n",
        "!ls datalab/train_small_resized\n",
        "!echo 'test_small_resize'\n",
        "!ls datalab/test_small_resized\n",
        "img = cv2.imread(\"/content/datalab/test_small/10.png\",0)\n",
        "plt.grid(False)\n",
        "plt.imshow(img)\n",
        "# !rm -rf datalab/train_cleaned/*\n",
        "# !cp -rf datalab_orig/datalab/train_cleaned/* datalab/train_cleaned/\n",
        "\n",
        "# TARGET_DIR=Path(os.path.join(os.getcwd(),Path(\"datalab/train_cleaned\")))\n",
        "# for i in TARGET_DIR.iterdir():\n",
        "#   img = cv2.imread(str(i),0)\n",
        "#   print(img.shape)"
      ],
      "execution_count": 193,
      "outputs": [
        {
          "output_type": "stream",
          "text": [
            "144\n",
            "101.png  123.png  146.png  167.png  189.png  210.png  36.png  59.png  80.png\n",
            "102.png  125.png  147.png  168.png  18.png   212.png  38.png  5.png   81.png\n",
            "104.png  126.png  149.png  170.png  191.png  213.png  39.png  60.png  83.png\n",
            "105.png  128.png  14.png   171.png  192.png  215.png  3.png   62.png  84.png\n",
            "107.png  129.png  150.png  173.png  194.png  216.png  41.png  63.png  86.png\n",
            "108.png  12.png   152.png  174.png  195.png  21.png   42.png  65.png  87.png\n",
            "110.png  131.png  153.png  176.png  197.png  23.png   44.png  66.png  89.png\n",
            "111.png  132.png  155.png  177.png  198.png  24.png   45.png  68.png  8.png\n",
            "113.png  134.png  156.png  179.png  200.png  26.png   47.png  69.png  90.png\n",
            "114.png  135.png  158.png  17.png   201.png  27.png   48.png  6.png   92.png\n",
            "116.png  137.png  159.png  180.png  203.png  29.png   50.png  71.png  93.png\n",
            "117.png  138.png  15.png   182.png  204.png  2.png    51.png  72.png  95.png\n",
            "119.png  140.png  161.png  183.png  206.png  30.png   53.png  74.png  96.png\n",
            "11.png\t 141.png  162.png  185.png  207.png  32.png   54.png  75.png  98.png\n",
            "120.png  143.png  164.png  186.png  209.png  33.png   56.png  77.png  99.png\n",
            "122.png  144.png  165.png  188.png  20.png   35.png   57.png  78.png  9.png\n",
            "144\n",
            "72\n",
            "100.png  121.png  142.png  166.png  187.png  205.png  34.png  55.png  79.png\n",
            "103.png  124.png  145.png  169.png  190.png  208.png  37.png  58.png  7.png\n",
            "106.png  127.png  148.png  16.png   193.png  211.png  40.png  61.png  82.png\n",
            "109.png  130.png  151.png  172.png  196.png  214.png  43.png  64.png  85.png\n",
            "10.png\t 133.png  154.png  175.png  199.png  22.png   46.png  67.png  88.png\n",
            "112.png  136.png  157.png  178.png  19.png   25.png   49.png  70.png  91.png\n",
            "115.png  139.png  160.png  181.png  1.png    28.png   4.png   73.png  94.png\n",
            "118.png  13.png   163.png  184.png  202.png  31.png   52.png  76.png  97.png\n",
            "train_small_resize\n",
            "11.png\t18.png\t26.png\t32.png\t39.png\t45.png\t53.png\t5.png\t66.png\t72.png\n",
            "12.png\t20.png\t27.png\t33.png\t3.png\t47.png\t54.png\t60.png\t68.png\t8.png\n",
            "14.png\t21.png\t29.png\t35.png\t41.png\t48.png\t56.png\t62.png\t69.png\t9.png\n",
            "15.png\t23.png\t2.png\t36.png\t42.png\t50.png\t57.png\t63.png\t6.png\n",
            "17.png\t24.png\t30.png\t38.png\t44.png\t51.png\t59.png\t65.png\t71.png\n",
            "test_small_resize\n",
            "10.png\t19.png\t25.png\t34.png\t43.png\t4.png\t58.png\t67.png\n",
            "13.png\t1.png\t28.png\t37.png\t46.png\t52.png\t61.png\t70.png\n",
            "16.png\t22.png\t31.png\t40.png\t49.png\t55.png\t64.png\t7.png\n"
          ],
          "name": "stdout"
        },
        {
          "output_type": "execute_result",
          "data": {
            "text/plain": [
              "<matplotlib.image.AxesImage at 0x7f4d010438d0>"
            ]
          },
          "metadata": {
            "tags": []
          },
          "execution_count": 193
        },
        {
          "output_type": "display_data",
          "data": {
            "image/png": "[encoded data removed]",
            "text/plain": [
              "<matplotlib.figure.Figure at 0x7f4d1c46bb38>"
            ]
          },
          "metadata": {
            "tags": []
          }
        }
      ]
    },
    {
      "metadata": {
        "id": "QC9uV-fuDfyX",
        "colab_type": "code",
        "colab": {}
      },
      "cell_type": "code",
      "source": [
        "import numpy as np\n",
        "from scipy import signal\n",
        "from PIL import Image\n",
        "from matplotlib import pyplot as plt\n",
        "import os\n",
        "\n",
        "class median_filter_and_thresholding():\n",
        "  \"\"\"\n",
        "  Simple background removal code\n",
        "\n",
        "  __author__ : Rangel Dokov\n",
        "\n",
        "  The basic idea is that we have a foreground object of interest (the dark text)\n",
        "  and we want to remove everything that is not part of this foreground object.\n",
        "\n",
        "  This should produce results somewhere around 0.06 on the leaderboard.\n",
        "  \"\"\"\n",
        "\n",
        "  def load_image(self, path):\n",
        "    return np.asarray(Image.open(path))/255.0\n",
        "\n",
        "  def save(self, path, img):\n",
        "    tmp = np.asarray(img*255.0, dtype=np.uint8)\n",
        "    Image.fromarray(tmp).save(path)\n",
        "\n",
        "  def denoise_image(self, inp):\n",
        "    # estimate 'background' color by a median filter\n",
        "    bg = signal.medfilt2d(inp, 11)\n",
        "    self.save('background.png', bg)\n",
        "\n",
        "    # thresholding: compute 'foreground' mask as anything that is significantly darker than the background\n",
        "    mask = inp < bg - 0.1\n",
        "    self.save('foreground_mask.png', mask)\n",
        "\n",
        "    # return the input value for all pixels in the mask or pure white otherwise\n",
        "    return np.where(mask, inp, 1.0)\n",
        "\n",
        "m = median_filter_and_thresholding()  \n",
        "imgdir_path='/content/datalab/test/'\n",
        "for f in os.listdir(imgdir_path):\n",
        "  inp_path=imgdir_path+str(f)\n",
        "  inp = m.load_image(inp_path)\n",
        "  out = m.denoise_image(inp)\n",
        "  out_path = f\n",
        "  m.save(out_path, out)  \n"
      ],
      "execution_count": 0,
      "outputs": []
    },
    {
      "metadata": {
        "id": "4E33tiLgdaCg",
        "colab_type": "code",
        "colab": {
          "base_uri": "https://localhost:8080/",
          "height": 4930
        },
        "outputId": "b44e8d18-d1d7-42fa-b413-70c461464e51"
      },
      "cell_type": "code",
      "source": [
        "def img2csv(imgdir_path,csv_name):\n",
        "  '''\n",
        "  This function flattens input image(s) from provided path to array=>(pixel_id,pixel_intensity_value)\n",
        "  '''\n",
        "  import time\n",
        "  import os\n",
        "  import numpy as np\n",
        "  from PIL import Image as Image\n",
        "  import csv\n",
        "  img_no=1\n",
        "  tick=time.time()\n",
        "  for f in os.listdir(imgdir_path):\n",
        "    out_path=imgdir_path+str(f)\n",
        "    img = np.asarray(Image.open(out_path))/255.0\n",
        "    print('writing img#{} to csv'.format(img_no))\n",
        "    for index in np.ndindex(img.shape[:]):    \n",
        "      with open(csv_name, 'a') as csvfile:\n",
        "          writer = csv.writer(csvfile, delimiter=',',quotechar='|', quoting=csv.QUOTE_MINIMAL)\n",
        "          writer.writerow( [ str(f.split('.')[0])+'_'+str(index[0]+1)+'_'+str(index[1]+1) ]+[ str(img[index[0],index[1]]) ] )\n",
        "    img_no+=1\n",
        "    tock1=time.time()\n",
        "    print('time to copy {}: {}'.format(f,str(tock1-tick)))\n",
        "  tock=time.time()\n",
        "  return 'time taken: '+str(tock-tick)\n",
        "\n",
        "img2csv('datalab/train_cleaned/','train_cleaned.csv')"
      ],
      "execution_count": 0,
      "outputs": [
        {
          "output_type": "stream",
          "text": [
            "writing img#1 to csv\n",
            "time to copy 183.png: 15.499060869216919\n",
            "writing img#2 to csv\n",
            "time to copy 56.png: 25.07726764678955\n",
            "writing img#3 to csv\n",
            "time to copy 92.png: 40.592365741729736\n",
            "writing img#4 to csv\n",
            "time to copy 32.png: 50.14067459106445\n",
            "writing img#5 to csv\n",
            "time to copy 50.png: 59.66117262840271\n",
            "writing img#6 to csv\n",
            "time to copy 182.png: 75.17591857910156\n",
            "writing img#7 to csv\n",
            "time to copy 110.png: 90.73227524757385\n",
            "writing img#8 to csv\n",
            "time to copy 105.png: 106.2534568309784\n",
            "writing img#9 to csv\n",
            "time to copy 138.png: 121.93554043769836\n",
            "writing img#10 to csv\n",
            "time to copy 99.png: 137.37348461151123\n",
            "writing img#11 to csv\n",
            "time to copy 62.png: 146.93444657325745\n",
            "writing img#12 to csv\n",
            "time to copy 59.png: 156.50678420066833\n",
            "writing img#13 to csv\n",
            "time to copy 108.png: 172.0984537601471\n",
            "writing img#14 to csv\n",
            "time to copy 12.png: 181.69309449195862\n",
            "writing img#15 to csv\n",
            "time to copy 119.png: 197.18895030021667\n",
            "writing img#16 to csv\n",
            "time to copy 155.png: 212.7899832725525\n",
            "writing img#17 to csv\n",
            "time to copy 120.png: 228.32787370681763\n",
            "writing img#18 to csv\n",
            "time to copy 140.png: 243.89713287353516\n",
            "writing img#19 to csv\n",
            "time to copy 113.png: 259.40053606033325\n",
            "writing img#20 to csv\n",
            "time to copy 159.png: 275.0515112876892\n",
            "writing img#21 to csv\n",
            "time to copy 114.png: 290.6036567687988\n",
            "writing img#22 to csv\n",
            "time to copy 57.png: 300.1441946029663\n",
            "writing img#23 to csv\n",
            "time to copy 80.png: 315.59467220306396\n",
            "writing img#24 to csv\n",
            "time to copy 147.png: 331.1482448577881\n",
            "writing img#25 to csv\n",
            "time to copy 27.png: 340.6357343196869\n",
            "writing img#26 to csv\n",
            "time to copy 51.png: 350.2235572338104\n",
            "writing img#27 to csv\n",
            "time to copy 179.png: 365.9887354373932\n",
            "writing img#28 to csv\n",
            "time to copy 11.png: 375.5044379234314\n",
            "writing img#29 to csv\n",
            "time to copy 77.png: 390.99943447113037\n",
            "writing img#30 to csv\n",
            "time to copy 47.png: 400.57519459724426\n",
            "writing img#31 to csv\n",
            "time to copy 149.png: 416.0935113430023\n",
            "writing img#32 to csv\n",
            "time to copy 2.png: 425.57581329345703\n",
            "writing img#33 to csv\n",
            "time to copy 146.png: 441.04183983802795\n",
            "writing img#34 to csv\n",
            "time to copy 191.png: 456.4992287158966\n",
            "writing img#35 to csv\n",
            "time to copy 68.png: 465.9638910293579\n",
            "writing img#36 to csv\n",
            "time to copy 45.png: 475.46191596984863\n",
            "writing img#37 to csv\n",
            "time to copy 177.png: 490.93693375587463\n",
            "writing img#38 to csv\n",
            "time to copy 197.png: 506.46287727355957\n",
            "writing img#39 to csv\n",
            "time to copy 167.png: 521.9797468185425\n",
            "writing img#40 to csv\n",
            "time to copy 156.png: 537.5520124435425\n",
            "writing img#41 to csv\n",
            "time to copy 26.png: 547.1165428161621\n",
            "writing img#42 to csv\n",
            "time to copy 185.png: 562.6479594707489\n",
            "writing img#43 to csv\n",
            "time to copy 173.png: 578.2094385623932\n",
            "writing img#44 to csv\n",
            "time to copy 209.png: 593.7667875289917\n",
            "writing img#45 to csv\n",
            "time to copy 165.png: 609.3947906494141\n",
            "writing img#46 to csv\n",
            "time to copy 102.png: 625.0519027709961\n",
            "writing img#47 to csv\n",
            "time to copy 137.png: 640.6853065490723\n",
            "writing img#48 to csv\n",
            "time to copy 158.png: 656.2666103839874\n",
            "writing img#49 to csv\n",
            "time to copy 71.png: 665.8544254302979\n",
            "writing img#50 to csv\n",
            "time to copy 171.png: 681.3121998310089\n",
            "writing img#51 to csv\n",
            "time to copy 201.png: 696.8361113071442\n",
            "writing img#52 to csv\n",
            "time to copy 152.png: 712.3776586055756\n",
            "writing img#53 to csv\n",
            "time to copy 87.png: 727.8892183303833\n",
            "writing img#54 to csv\n",
            "time to copy 9.png: 737.4046597480774\n",
            "writing img#55 to csv\n",
            "time to copy 15.png: 746.927330493927\n",
            "writing img#56 to csv\n",
            "time to copy 198.png: 762.4873440265656\n",
            "writing img#57 to csv\n"
          ],
          "name": "stdout"
        },
        {
          "output_type": "stream",
          "text": [
            "time to copy 65.png: 771.9516253471375\n",
            "writing img#58 to csv\n",
            "time to copy 213.png: 787.4093194007874\n",
            "writing img#59 to csv\n",
            "time to copy 83.png: 802.792445898056\n",
            "writing img#60 to csv\n",
            "time to copy 98.png: 818.5159742832184\n",
            "writing img#61 to csv\n",
            "time to copy 126.png: 833.9696080684662\n",
            "writing img#62 to csv\n",
            "time to copy 24.png: 843.4770398139954\n",
            "writing img#63 to csv\n",
            "time to copy 72.png: 852.9030067920685\n",
            "writing img#64 to csv\n",
            "time to copy 180.png: 868.3621077537537\n",
            "writing img#65 to csv\n",
            "time to copy 174.png: 883.8732032775879\n",
            "writing img#66 to csv\n",
            "time to copy 141.png: 899.2639937400818\n",
            "writing img#67 to csv\n",
            "time to copy 189.png: 914.6497993469238\n",
            "writing img#68 to csv\n",
            "time to copy 30.png: 924.1340477466583\n",
            "writing img#69 to csv\n",
            "time to copy 122.png: 939.6108891963959\n",
            "writing img#70 to csv\n",
            "time to copy 135.png: 954.9622447490692\n",
            "writing img#71 to csv\n",
            "time to copy 194.png: 970.2685871124268\n",
            "writing img#72 to csv\n",
            "time to copy 125.png: 985.6736679077148\n",
            "writing img#73 to csv\n",
            "time to copy 86.png: 1001.0505123138428\n",
            "writing img#74 to csv\n",
            "time to copy 3.png: 1010.5446166992188\n",
            "writing img#75 to csv\n",
            "time to copy 153.png: 1026.033162355423\n",
            "writing img#76 to csv\n",
            "time to copy 8.png: 1035.4939670562744\n",
            "writing img#77 to csv\n",
            "time to copy 63.png: 1045.0124897956848\n",
            "writing img#78 to csv\n",
            "time to copy 162.png: 1060.5674686431885\n",
            "writing img#79 to csv\n",
            "time to copy 84.png: 1076.0173799991608\n",
            "writing img#80 to csv\n",
            "time to copy 212.png: 1091.4473550319672\n",
            "writing img#81 to csv\n",
            "time to copy 66.png: 1100.8979322910309\n",
            "writing img#82 to csv\n",
            "time to copy 53.png: 1110.3798792362213\n",
            "writing img#83 to csv\n",
            "time to copy 44.png: 1119.921618938446\n",
            "writing img#84 to csv\n",
            "time to copy 89.png: 1135.3115391731262\n",
            "writing img#85 to csv\n",
            "time to copy 48.png: 1144.8531520366669\n",
            "writing img#86 to csv\n",
            "time to copy 29.png: 1154.29576253891\n",
            "writing img#87 to csv\n",
            "time to copy 210.png: 1169.7334027290344\n",
            "writing img#88 to csv\n",
            "time to copy 170.png: 1185.1226015090942\n",
            "writing img#89 to csv\n",
            "time to copy 168.png: 1200.5564143657684\n",
            "writing img#90 to csv\n",
            "time to copy 20.png: 1209.999980211258\n",
            "writing img#91 to csv\n",
            "time to copy 60.png: 1219.4319972991943\n",
            "writing img#92 to csv\n",
            "time to copy 107.png: 1234.811671257019\n",
            "writing img#93 to csv\n",
            "time to copy 36.png: 1244.3004467487335\n",
            "writing img#94 to csv\n",
            "time to copy 33.png: 1253.6854665279388\n",
            "writing img#95 to csv\n",
            "time to copy 188.png: 1269.1216197013855\n",
            "writing img#96 to csv\n",
            "time to copy 129.png: 1284.4733560085297\n",
            "writing img#97 to csv\n",
            "time to copy 164.png: 1299.8987152576447\n",
            "writing img#98 to csv\n",
            "time to copy 35.png: 1309.3485934734344\n",
            "writing img#99 to csv\n",
            "time to copy 161.png: 1324.7924427986145\n",
            "writing img#100 to csv\n",
            "time to copy 186.png: 1340.188148021698\n",
            "writing img#101 to csv\n",
            "time to copy 78.png: 1355.6890759468079\n",
            "writing img#102 to csv\n",
            "time to copy 207.png: 1371.0714197158813\n",
            "writing img#103 to csv\n",
            "time to copy 143.png: 1386.4409878253937\n",
            "writing img#104 to csv\n",
            "time to copy 215.png: 1401.7778339385986\n",
            "writing img#105 to csv\n",
            "time to copy 23.png: 1411.21937417984\n",
            "writing img#106 to csv\n",
            "time to copy 144.png: 1426.53302526474\n",
            "writing img#107 to csv\n",
            "time to copy 5.png: 1436.0113492012024\n",
            "writing img#108 to csv\n",
            "time to copy 128.png: 1451.277455329895\n",
            "writing img#109 to csv\n",
            "time to copy 204.png: 1466.5416495800018\n",
            "writing img#110 to csv\n",
            "time to copy 117.png: 1481.9759891033173\n",
            "writing img#111 to csv\n",
            "time to copy 93.png: 1497.332311630249\n",
            "writing img#112 to csv\n",
            "time to copy 17.png: 1506.7450652122498\n",
            "writing img#113 to csv\n"
          ],
          "name": "stdout"
        },
        {
          "output_type": "stream",
          "text": [
            "time to copy 216.png: 1522.0567195415497\n",
            "writing img#114 to csv\n",
            "time to copy 131.png: 1537.373825788498\n",
            "writing img#115 to csv\n",
            "time to copy 111.png: 1552.70428109169\n",
            "writing img#116 to csv\n",
            "time to copy 101.png: 1567.9181008338928\n",
            "writing img#117 to csv\n",
            "time to copy 74.png: 1583.119149684906\n",
            "writing img#118 to csv\n",
            "time to copy 96.png: 1598.2864394187927\n",
            "writing img#119 to csv\n",
            "time to copy 18.png: 1607.6615068912506\n",
            "writing img#120 to csv\n",
            "time to copy 75.png: 1622.9005699157715\n",
            "writing img#121 to csv\n",
            "time to copy 21.png: 1632.2765843868256\n",
            "writing img#122 to csv\n",
            "time to copy 200.png: 1647.5256667137146\n",
            "writing img#123 to csv\n",
            "time to copy 104.png: 1662.8447947502136\n",
            "writing img#124 to csv\n",
            "time to copy 150.png: 1678.1939792633057\n",
            "writing img#125 to csv\n",
            "time to copy 192.png: 1693.5271770954132\n",
            "writing img#126 to csv\n",
            "time to copy 132.png: 1708.8015356063843\n",
            "writing img#127 to csv\n",
            "time to copy 195.png: 1724.1345500946045\n",
            "writing img#128 to csv\n",
            "time to copy 38.png: 1733.5716261863708\n",
            "writing img#129 to csv\n",
            "time to copy 203.png: 1748.8913905620575\n",
            "writing img#130 to csv\n",
            "time to copy 39.png: 1758.3049101829529\n",
            "writing img#131 to csv\n",
            "time to copy 95.png: 1773.6466069221497\n",
            "writing img#132 to csv\n",
            "time to copy 14.png: 1783.0838940143585\n",
            "writing img#133 to csv\n",
            "time to copy 81.png: 1798.3390893936157\n",
            "writing img#134 to csv\n",
            "time to copy 123.png: 1813.6390528678894\n",
            "writing img#135 to csv\n",
            "time to copy 90.png: 1828.923998117447\n",
            "writing img#136 to csv\n",
            "time to copy 116.png: 1844.288366317749\n",
            "writing img#137 to csv\n",
            "time to copy 42.png: 1853.7293524742126\n",
            "writing img#138 to csv\n",
            "time to copy 176.png: 1869.077248096466\n",
            "writing img#139 to csv\n",
            "time to copy 41.png: 1878.5392496585846\n",
            "writing img#140 to csv\n",
            "time to copy 54.png: 1888.0273282527924\n",
            "writing img#141 to csv\n",
            "time to copy 206.png: 1903.5310254096985\n",
            "writing img#142 to csv\n",
            "time to copy 134.png: 1918.9538028240204\n",
            "writing img#143 to csv\n",
            "time to copy 6.png: 1928.4048156738281\n",
            "writing img#144 to csv\n",
            "time to copy 69.png: 1937.850811958313\n"
          ],
          "name": "stdout"
        },
        {
          "output_type": "execute_result",
          "data": {
            "text/plain": [
              "'time taken: 1937.8511793613434'"
            ]
          },
          "metadata": {
            "tags": []
          },
          "execution_count": 27
        }
      ]
    },
    {
      "metadata": {
        "id": "qRgjOvdhr8u6",
        "colab_type": "code",
        "colab": {
          "base_uri": "https://localhost:8080/",
          "height": 221
        },
        "outputId": "f1a48d57-1cf5-4518-82f5-99dce6a2a043"
      },
      "cell_type": "code",
      "source": [
        "#@title Functions to download files from collab to local system/gdrive\n",
        "\n",
        "def save_file_to_local(filename):\n",
        "  '''\n",
        "  files.download is useful for downloading small files from collab book to local drive. \n",
        "  Note: for bigger file size > 100MB, try storing file to google drive & download thereafter.\n",
        "  '''\n",
        "  \n",
        "  from google.colab import files\n",
        "\n",
        "  files.download(filename)\n",
        "  \n",
        "def save_file_to_gdrive(name, path):\n",
        "  '''\n",
        "  Upload the file to Drive. See:\n",
        "  https://developers.google.com/drive/v3/reference/files/create\n",
        "  https://developers.google.com/drive/v3/web/manage-uploads\n",
        "  '''\n",
        "  \n",
        "  from googleapiclient.http import MediaFileUpload\n",
        "  from googleapiclient.discovery import build\n",
        "  \n",
        "  drive_service = build('drive', 'v3')\n",
        "  file_metadata = {\n",
        "  'name': name,\n",
        "  'mimeType': 'application/octet-stream'\n",
        "  }\n",
        "  media = MediaFileUpload(path, mimetype='application/octet-stream',resumable=True)\n",
        "  created = drive_service.files().create(body=file_metadata, media_body=media,fields='id').execute()\n",
        "  print('File ID: {}'.format(created.get('id')))\n",
        "  return created\n",
        "\n",
        "save_file_to_gdrive('train_cleaned.csv','/content/train_cleaned.csv')"
      ],
      "execution_count": 0,
      "outputs": [
        {
          "output_type": "stream",
          "text": [
            "adc.json\n",
            "183_1_1,1.0\n",
            "183_1_2,1.0\n",
            "183_1_3,1.0\n",
            "183_1_4,1.0\n",
            "183_1_5,1.0\n",
            "****\n",
            "183_1_1,0.8901960784313725\n",
            "183_1_2,0.8823529411764706\n",
            "183_1_3,0.8980392156862745\n",
            "183_1_4,0.8823529411764706\n",
            "183_1_5,0.8705882352941177\n"
          ],
          "name": "stdout"
        }
      ]
    },
    {
      "metadata": {
        "id": "5Dd5SNpM4vy9",
        "colab_type": "code",
        "colab": {
          "base_uri": "https://localhost:8080/",
          "height": 68
        },
        "outputId": "a579a526-ddb0-419d-8c19-20f55d0c9df4"
      },
      "cell_type": "code",
      "source": [
        "!ls\n",
        "\n",
        "def csv2np1(input_csv):\n",
        "  import numpy as np\n",
        "  return np.genfromtxt(input_csv,delimiter=',')\n",
        "\n",
        "import time\n",
        "def csv2np(input_csv):\n",
        "  '''\n",
        "  using csv module to read data & np.asarray method to covert to numpy array is 10X faster than using np.genfromtxt()\n",
        "  '''\n",
        "  import csv\n",
        "  import numpy as np\n",
        "  with open(input_csv,'r') as dest_f:\n",
        "      data_iter = csv.reader(dest_f, delimiter = ',', quotechar = '\"')\n",
        "      data = [data for data in data_iter]\n",
        "  np_array = np.asarray(data, dtype = float)    \n",
        "  return np_array\n",
        "\n",
        "tick=time.time()\n",
        "#y_train = csv2np('/content/train_cleaned.csv')\n",
        "y_train1 = csv2np1('/content/train_cleaned.csv')\n",
        "tock=time.time()\n",
        "print(tock-tick)\n",
        "#X_train = csv2np('/content/train.csv')\n",
        "X_train1 = csv2np1('/content/train.csv')\n",
        "tock=time.time()\n",
        "print(tock-tick)"
      ],
      "execution_count": 0,
      "outputs": [
        {
          "output_type": "stream",
          "text": [
            "datalab  train_cleaned.csv  train.csv\r\n",
            "125.94951009750366\n",
            "258.1544303894043\n"
          ],
          "name": "stdout"
        }
      ]
    },
    {
      "metadata": {
        "id": "Ws1wr_C40qXl",
        "colab_type": "code",
        "colab": {
          "base_uri": "https://localhost:8080/",
          "height": 309
        },
        "outputId": "beaad6d6-c464-4901-f0dc-712a017d892e"
      },
      "cell_type": "code",
      "source": [
        "import numpy as np\n",
        "def linear_reg_keras(X_train, y_train, y_test, epoch=10, bsize=16):\n",
        "  from keras.models import Sequential\n",
        "  from keras.layers.core import Dense, Activation\n",
        "  model = Sequential()\n",
        "#   model.add(Dense(2,1,init='uniform', activation='linear'))\n",
        "  model.add(Dense(32, input_dim=(28460160,)))\n",
        "  model.add(Activation('linear'))\n",
        "  model.summary()\n",
        "\n",
        "  model.compile(loss='mse', optimizer='rmsprop')\n",
        "\n",
        "  model.fit(X_train, y_train, epochs=epoch, batch_size=bsize, verbose=1)\n",
        "  score = model.evaluate(X_test, y_test, bsize=16)\n",
        "\n",
        "def lin_reg1(x,y):\n",
        "  from keras.layers import Input, Dense\n",
        "  from keras.models import Model\n",
        "\n",
        "  inputs = Input(shape=(1,))\n",
        "  preds = Dense(1,activation='linear')(inputs)\n",
        "\n",
        "  model = Model(inputs=inputs,outputs=preds)\n",
        "  model.summary()\n",
        "  #sgd=keras.optimizers.SGD()\n",
        "  model.compile(optimizer='rmsprop' ,loss='mse',metrics=['mse'])\n",
        "  model.fit(x,y, batch_size=32, epochs=3, shuffle=True)\n",
        "\n",
        "x=np.transpose(X_train1[:,1])\n",
        "y=np.transpose(y_train1[:,1])\n",
        "print(y.shape)\n",
        "print(x.shape)\n",
        "print(type(x))\n",
        "\n",
        "#linear_reg_keras(x, y, x, epoch=1)\n",
        "lin_reg1(x,y)"
      ],
      "execution_count": 0,
      "outputs": [
        {
          "output_type": "stream",
          "text": [
            "(28460160,)\n",
            "(28460160,)\n",
            "<class 'numpy.ndarray'>\n",
            "_________________________________________________________________\n",
            "Layer (type)                 Output Shape              Param #   \n",
            "=================================================================\n",
            "input_7 (InputLayer)         (None, 1)                 0         \n",
            "_________________________________________________________________\n",
            "dense_10 (Dense)             (None, 1)                 2         \n",
            "=================================================================\n",
            "Total params: 2\n",
            "Trainable params: 2\n",
            "Non-trainable params: 0\n",
            "_________________________________________________________________\n",
            "Epoch 1/3\n",
            "   51744/28460160 [..............................] - ETA: 1:22:31 - loss: 0.0112 - mean_squared_error: 0.0112"
          ],
          "name": "stdout"
        },
        {
          "output_type": "stream",
          "text": [
            "  422912/28460160 [..............................] - ETA: 1:02:32 - loss: 0.0091 - mean_squared_error: 0.0091"
          ],
          "name": "stdout"
        },
        {
          "output_type": "stream",
          "text": [
            "  792640/28460160 [..............................] - ETA: 1:00:35 - loss: 0.0090 - mean_squared_error: 0.0090"
          ],
          "name": "stdout"
        },
        {
          "output_type": "stream",
          "text": [
            " 1169408/28460160 [>.............................] - ETA: 59:13 - loss: 0.0089 - mean_squared_error: 0.0089"
          ],
          "name": "stdout"
        },
        {
          "output_type": "stream",
          "text": [
            " 1551520/28460160 [>.............................] - ETA: 58:01 - loss: 0.0089 - mean_squared_error: 0.0089"
          ],
          "name": "stdout"
        },
        {
          "output_type": "stream",
          "text": [
            " 1930304/28460160 [=>............................] - ETA: 57:04 - loss: 0.0089 - mean_squared_error: 0.0089"
          ],
          "name": "stdout"
        },
        {
          "output_type": "stream",
          "text": [
            " 2316224/28460160 [=>............................] - ETA: 55:58 - loss: 0.0089 - mean_squared_error: 0.0089"
          ],
          "name": "stdout"
        },
        {
          "output_type": "stream",
          "text": [
            " 2697216/28460160 [=>............................] - ETA: 55:04 - loss: 0.0089 - mean_squared_error: 0.0089"
          ],
          "name": "stdout"
        },
        {
          "output_type": "stream",
          "text": [
            " 3082880/28460160 [==>...........................] - ETA: 54:06 - loss: 0.0089 - mean_squared_error: 0.0089"
          ],
          "name": "stdout"
        },
        {
          "output_type": "stream",
          "text": [
            " 3464000/28460160 [==>...........................] - ETA: 53:14 - loss: 0.0089 - mean_squared_error: 0.0089"
          ],
          "name": "stdout"
        },
        {
          "output_type": "stream",
          "text": [
            " 3845760/28460160 [===>..........................] - ETA: 52:23 - loss: 0.0088 - mean_squared_error: 0.0088"
          ],
          "name": "stdout"
        },
        {
          "output_type": "stream",
          "text": [
            " 4223744/28460160 [===>..........................] - ETA: 51:35 - loss: 0.0089 - mean_squared_error: 0.0089"
          ],
          "name": "stdout"
        },
        {
          "output_type": "stream",
          "text": [
            " 4600096/28460160 [===>..........................] - ETA: 50:49 - loss: 0.0088 - mean_squared_error: 0.0088"
          ],
          "name": "stdout"
        },
        {
          "output_type": "stream",
          "text": [
            " 4981696/28460160 [====>.........................] - ETA: 49:58 - loss: 0.0088 - mean_squared_error: 0.0088"
          ],
          "name": "stdout"
        },
        {
          "output_type": "stream",
          "text": [
            " 5358112/28460160 [====>.........................] - ETA: 49:12 - loss: 0.0088 - mean_squared_error: 0.0088"
          ],
          "name": "stdout"
        },
        {
          "output_type": "stream",
          "text": [
            " 5733952/28460160 [=====>........................] - ETA: 48:26 - loss: 0.0088 - mean_squared_error: 0.0088"
          ],
          "name": "stdout"
        },
        {
          "output_type": "stream",
          "text": [
            " 6111488/28460160 [=====>........................] - ETA: 47:39 - loss: 0.0088 - mean_squared_error: 0.0088"
          ],
          "name": "stdout"
        },
        {
          "output_type": "stream",
          "text": [
            " 6489952/28460160 [=====>........................] - ETA: 46:50 - loss: 0.0088 - mean_squared_error: 0.0088"
          ],
          "name": "stdout"
        },
        {
          "output_type": "stream",
          "text": [
            " 6864512/28460160 [======>.......................] - ETA: 46:04 - loss: 0.0088 - mean_squared_error: 0.0088"
          ],
          "name": "stdout"
        },
        {
          "output_type": "stream",
          "text": [
            " 7240608/28460160 [======>.......................] - ETA: 45:17 - loss: 0.0088 - mean_squared_error: 0.0088"
          ],
          "name": "stdout"
        },
        {
          "output_type": "stream",
          "text": [
            " 7616448/28460160 [=======>......................] - ETA: 44:29 - loss: 0.0088 - mean_squared_error: 0.0088"
          ],
          "name": "stdout"
        },
        {
          "output_type": "stream",
          "text": [
            " 7994048/28460160 [=======>......................] - ETA: 43:41 - loss: 0.0088 - mean_squared_error: 0.0088"
          ],
          "name": "stdout"
        },
        {
          "output_type": "stream",
          "text": [
            " 8361728/28460160 [=======>......................] - ETA: 42:58 - loss: 0.0088 - mean_squared_error: 0.0088"
          ],
          "name": "stdout"
        },
        {
          "output_type": "stream",
          "text": [
            " 8731776/28460160 [========>.....................] - ETA: 42:12 - loss: 0.0088 - mean_squared_error: 0.0088"
          ],
          "name": "stdout"
        },
        {
          "output_type": "stream",
          "text": [
            " 9106496/28460160 [========>.....................] - ETA: 41:25 - loss: 0.0088 - mean_squared_error: 0.0088"
          ],
          "name": "stdout"
        },
        {
          "output_type": "stream",
          "text": [
            " 9482368/28460160 [========>.....................] - ETA: 40:37 - loss: 0.0088 - mean_squared_error: 0.0088"
          ],
          "name": "stdout"
        },
        {
          "output_type": "stream",
          "text": [
            " 9856608/28460160 [=========>....................] - ETA: 39:50 - loss: 0.0088 - mean_squared_error: 0.0088"
          ],
          "name": "stdout"
        },
        {
          "output_type": "stream",
          "text": [
            "10233440/28460160 [=========>....................] - ETA: 39:01 - loss: 0.0088 - mean_squared_error: 0.0088"
          ],
          "name": "stdout"
        },
        {
          "output_type": "stream",
          "text": [
            "10611264/28460160 [==========>...................] - ETA: 38:13 - loss: 0.0088 - mean_squared_error: 0.0088"
          ],
          "name": "stdout"
        },
        {
          "output_type": "stream",
          "text": [
            "10988000/28460160 [==========>...................] - ETA: 37:24 - loss: 0.0088 - mean_squared_error: 0.0088"
          ],
          "name": "stdout"
        },
        {
          "output_type": "stream",
          "text": [
            "11363008/28460160 [==========>...................] - ETA: 36:37 - loss: 0.0088 - mean_squared_error: 0.0088"
          ],
          "name": "stdout"
        },
        {
          "output_type": "stream",
          "text": [
            "11738144/28460160 [===========>..................] - ETA: 35:49 - loss: 0.0088 - mean_squared_error: 0.0088"
          ],
          "name": "stdout"
        },
        {
          "output_type": "stream",
          "text": [
            "12111200/28460160 [===========>..................] - ETA: 35:01 - loss: 0.0088 - mean_squared_error: 0.0088"
          ],
          "name": "stdout"
        },
        {
          "output_type": "stream",
          "text": [
            "12488192/28460160 [============>.................] - ETA: 34:13 - loss: 0.0088 - mean_squared_error: 0.0088"
          ],
          "name": "stdout"
        },
        {
          "output_type": "stream",
          "text": [
            "12863488/28460160 [============>.................] - ETA: 33:25 - loss: 0.0088 - mean_squared_error: 0.0088"
          ],
          "name": "stdout"
        },
        {
          "output_type": "stream",
          "text": [
            "13241792/28460160 [============>.................] - ETA: 32:36 - loss: 0.0088 - mean_squared_error: 0.0088"
          ],
          "name": "stdout"
        },
        {
          "output_type": "stream",
          "text": [
            "13619040/28460160 [=============>................] - ETA: 31:48 - loss: 0.0088 - mean_squared_error: 0.0088"
          ],
          "name": "stdout"
        },
        {
          "output_type": "stream",
          "text": [
            "13995232/28460160 [=============>................] - ETA: 30:59 - loss: 0.0088 - mean_squared_error: 0.0088"
          ],
          "name": "stdout"
        },
        {
          "output_type": "stream",
          "text": [
            "14371680/28460160 [==============>...............] - ETA: 30:11 - loss: 0.0088 - mean_squared_error: 0.0088"
          ],
          "name": "stdout"
        },
        {
          "output_type": "stream",
          "text": [
            "14748064/28460160 [==============>...............] - ETA: 29:23 - loss: 0.0088 - mean_squared_error: 0.0088"
          ],
          "name": "stdout"
        },
        {
          "output_type": "stream",
          "text": [
            "15121216/28460160 [==============>...............] - ETA: 28:35 - loss: 0.0088 - mean_squared_error: 0.0088"
          ],
          "name": "stdout"
        },
        {
          "output_type": "stream",
          "text": [
            "15496320/28460160 [===============>..............] - ETA: 27:47 - loss: 0.0088 - mean_squared_error: 0.0088"
          ],
          "name": "stdout"
        },
        {
          "output_type": "stream",
          "text": [
            "15872384/28460160 [===============>..............] - ETA: 26:59 - loss: 0.0088 - mean_squared_error: 0.0088"
          ],
          "name": "stdout"
        },
        {
          "output_type": "stream",
          "text": [
            "16247808/28460160 [================>.............] - ETA: 26:11 - loss: 0.0088 - mean_squared_error: 0.0088"
          ],
          "name": "stdout"
        },
        {
          "output_type": "stream",
          "text": [
            "16623680/28460160 [================>.............] - ETA: 25:22 - loss: 0.0088 - mean_squared_error: 0.0088"
          ],
          "name": "stdout"
        },
        {
          "output_type": "stream",
          "text": [
            "16998560/28460160 [================>.............] - ETA: 24:34 - loss: 0.0088 - mean_squared_error: 0.0088"
          ],
          "name": "stdout"
        },
        {
          "output_type": "stream",
          "text": [
            "17372064/28460160 [=================>............] - ETA: 23:46 - loss: 0.0088 - mean_squared_error: 0.0088"
          ],
          "name": "stdout"
        },
        {
          "output_type": "stream",
          "text": [
            "17745824/28460160 [=================>............] - ETA: 22:59 - loss: 0.0088 - mean_squared_error: 0.0088"
          ],
          "name": "stdout"
        },
        {
          "output_type": "stream",
          "text": [
            "18118912/28460160 [==================>...........] - ETA: 22:11 - loss: 0.0088 - mean_squared_error: 0.0088"
          ],
          "name": "stdout"
        },
        {
          "output_type": "stream",
          "text": [
            "18490208/28460160 [==================>...........] - ETA: 21:23 - loss: 0.0088 - mean_squared_error: 0.0088"
          ],
          "name": "stdout"
        },
        {
          "output_type": "stream",
          "text": [
            "18860864/28460160 [==================>...........] - ETA: 20:36 - loss: 0.0088 - mean_squared_error: 0.0088"
          ],
          "name": "stdout"
        },
        {
          "output_type": "stream",
          "text": [
            "19237408/28460160 [===================>..........] - ETA: 19:47 - loss: 0.0088 - mean_squared_error: 0.0088"
          ],
          "name": "stdout"
        },
        {
          "output_type": "stream",
          "text": [
            "19614240/28460160 [===================>..........] - ETA: 18:59 - loss: 0.0088 - mean_squared_error: 0.0088"
          ],
          "name": "stdout"
        },
        {
          "output_type": "stream",
          "text": [
            "19990976/28460160 [====================>.........] - ETA: 18:10 - loss: 0.0088 - mean_squared_error: 0.0088"
          ],
          "name": "stdout"
        },
        {
          "output_type": "stream",
          "text": [
            "20364992/28460160 [====================>.........] - ETA: 17:22 - loss: 0.0088 - mean_squared_error: 0.0088"
          ],
          "name": "stdout"
        },
        {
          "output_type": "stream",
          "text": [
            "20738752/28460160 [====================>.........] - ETA: 16:34 - loss: 0.0088 - mean_squared_error: 0.0088"
          ],
          "name": "stdout"
        },
        {
          "output_type": "stream",
          "text": [
            "21113728/28460160 [=====================>........] - ETA: 15:46 - loss: 0.0088 - mean_squared_error: 0.0088"
          ],
          "name": "stdout"
        },
        {
          "output_type": "stream",
          "text": [
            "21488608/28460160 [=====================>........] - ETA: 14:58 - loss: 0.0088 - mean_squared_error: 0.0088"
          ],
          "name": "stdout"
        },
        {
          "output_type": "stream",
          "text": [
            "21813920/28460160 [=====================>........] - ETA: 14:16 - loss: 0.0088 - mean_squared_error: 0.0088"
          ],
          "name": "stdout"
        }
      ]
    },
    {
      "metadata": {
        "id": "7nPPDR7wP2TX",
        "colab_type": "code",
        "colab": {
          "base_uri": "https://localhost:8080/",
          "height": 68
        },
        "outputId": "f40e4446-77a8-4fc3-ef16-b39a2abebbe1"
      },
      "cell_type": "code",
      "source": [
        "#JUNK\n",
        "\n",
        "from keras.preprocessing.image import ImageDataGenerator\n",
        "from keras.models import Sequential, Model\n",
        "from keras.layers import Input, Conv2D\n",
        "from keras.layers import Activation, Dropout, Flatten, Dense, MaxPooling2D, UpSampling2D, AveragePooling2D, BatchNormalization\n",
        "from keras.layers.advanced_activations import LeakyReLU, PReLU, ThresholdedReLU\n",
        "from keras import backend as K\n",
        "from keras.callbacks import TensorBoard\n",
        "\n",
        "\n",
        "# dimensions of our images.\n",
        "img_width, img_height = 540, 420\n",
        "\n",
        "X_train_data_dir = 'datalab/train'\n",
        "y_train_data_dir = 'datalab/train_cleaned'\n",
        "nb_train_samples = 144\n",
        "epochs = 10\n",
        "batch_size = 16\n",
        "\n",
        "# this is the augmentation configuration we will use for training\n",
        "X_train_datagen = ImageDataGenerator(\n",
        "    rescale=1. / 255,\n",
        "    #shear_range=0.2,\n",
        "    #zoom_range=0.2,\n",
        "    #horizontal_flip=True\n",
        "    )\n",
        "\n",
        "# this is the augmentation configuration we will use for testing:\n",
        "# only rescaling\n",
        "y_train_datagen = ImageDataGenerator(rescale=1. / 255)\n",
        "\n",
        "X_train_generator = X_train_datagen.flow_from_directory(\n",
        "    X_train_data_dir,\n",
        "    target_size=(img_width, img_height),\n",
        "    batch_size=batch_size,\n",
        "    class_mode='input')\n",
        "\n",
        "y_train_generator = y_train_datagen.flow_from_directory(\n",
        "    y_train_data_dir,\n",
        "    target_size=(img_width, img_height),\n",
        "    batch_size=batch_size,\n",
        "    class_mode='input')\n",
        "\n",
        "# from PIL import Image\n",
        "# im = Image.open(\"./datalab/test/52.png\")\n",
        "# print(im.format, im.size, im.mode)\n",
        "# im.split()\n",
        "# plt.grid(False)\n",
        "# plt.imshow(np.asarray(im))\n",
        "\n",
        "# im1 = Image.open(\"./test_op/91.png\")\n",
        "# print(im1.format, im.size, im.mode)\n",
        "# im1.split()\n",
        "# plt.imshow(np.asarray(im1))\n",
        "\n",
        "!ls test_op"
      ],
      "execution_count": 109,
      "outputs": [
        {
          "output_type": "stream",
          "text": [
            "Found 0 images belonging to 0 classes.\n",
            "Found 0 images belonging to 0 classes.\n",
            "ls: cannot access 'test_op': No such file or directory\n"
          ],
          "name": "stdout"
        }
      ]
    },
    {
      "metadata": {
        "id": "2XaJR16WSthJ",
        "colab_type": "code",
        "colab": {
          "base_uri": "https://localhost:8080/",
          "height": 1377
        },
        "outputId": "a5d3ab7b-03c8-4b66-f33d-a55494ad3075"
      },
      "cell_type": "code",
      "source": [
        "input_img = Input(shape=(258, 540, 1))  # adapt this if using `channels_first` image data format\n",
        "\n",
        "x = Conv2D(8, (3, 3), activation='relu', use_bias=True, padding='same')(input_img)\n",
        "x = Conv2D(16, (3, 3), activation='relu', use_bias=True, padding='same')(x)\n",
        "x = Dropout(0.1)(x)\n",
        "x = Conv2D(32, (3, 3), activation='relu', use_bias=True, padding='same')(x)\n",
        "#x = MaxPooling2D((2, 2), padding='same')(x)\n",
        "x = Conv2D(64, (3, 3), activation='relu', use_bias=True, padding='same')(x)\n",
        "x = Conv2D(128, (3, 3), activation='relu', use_bias=True, padding='same')(x)\n",
        "x = Dropout(0.1)(x)\n",
        "encoded = MaxPooling2D((2, 2), padding='same')(x)\n",
        "\n",
        "# at this point the representation is (7, 7, 32)\n",
        "\n",
        "x = Conv2D(128, (3, 3), activation='relu', use_bias=True, padding='same')(encoded)\n",
        "x = Conv2D(64, (3, 3), activation='relu', use_bias=True, padding='same')(x)\n",
        "x = Conv2D(32, (3, 3), activation='relu', use_bias=True, padding='same')(x)\n",
        "#x = UpSampling2D((2, 2))(x)\n",
        "x = Conv2D(16, (3, 3), activation='relu', use_bias=True, padding='same')(x)\n",
        "x = Conv2D(8, (3, 3), activation='relu', use_bias=True, padding='same')(x)\n",
        "x = UpSampling2D((2, 2))(x)\n",
        "decoded = Conv2D(1, (3, 3), activation='sigmoid', padding='same')(x)\n",
        "\n",
        "autoencoder = Model(input_img, decoded)\n",
        "autoencoder.compile(optimizer='rmsprop', loss='mse')\n",
        "autoencoder.summary()\n",
        "autoencoder.fit(X_train, y_train,\n",
        "            epochs=20,\n",
        "            batch_size=4,\n",
        "            shuffle=True,\n",
        "            #validation_data=(X_train, y_train),\n",
        "            callbacks=[TensorBoard(log_dir='/content/tb', histogram_freq=0, write_graph=False)]\n",
        "            )"
      ],
      "execution_count": 110,
      "outputs": [
        {
          "output_type": "stream",
          "text": [
            "_________________________________________________________________\n",
            "Layer (type)                 Output Shape              Param #   \n",
            "=================================================================\n",
            "input_2 (InputLayer)         (None, 258, 540, 1)       0         \n",
            "_________________________________________________________________\n",
            "conv2d_12 (Conv2D)           (None, 258, 540, 8)       80        \n",
            "_________________________________________________________________\n",
            "conv2d_13 (Conv2D)           (None, 258, 540, 16)      1168      \n",
            "_________________________________________________________________\n",
            "dropout_3 (Dropout)          (None, 258, 540, 16)      0         \n",
            "_________________________________________________________________\n",
            "conv2d_14 (Conv2D)           (None, 258, 540, 32)      4640      \n",
            "_________________________________________________________________\n",
            "conv2d_15 (Conv2D)           (None, 258, 540, 64)      18496     \n",
            "_________________________________________________________________\n",
            "conv2d_16 (Conv2D)           (None, 258, 540, 128)     73856     \n",
            "_________________________________________________________________\n",
            "dropout_4 (Dropout)          (None, 258, 540, 128)     0         \n",
            "_________________________________________________________________\n",
            "max_pooling2d_2 (MaxPooling2 (None, 129, 270, 128)     0         \n",
            "_________________________________________________________________\n",
            "conv2d_17 (Conv2D)           (None, 129, 270, 128)     147584    \n",
            "_________________________________________________________________\n",
            "conv2d_18 (Conv2D)           (None, 129, 270, 64)      73792     \n",
            "_________________________________________________________________\n",
            "conv2d_19 (Conv2D)           (None, 129, 270, 32)      18464     \n",
            "_________________________________________________________________\n",
            "conv2d_20 (Conv2D)           (None, 129, 270, 16)      4624      \n",
            "_________________________________________________________________\n",
            "conv2d_21 (Conv2D)           (None, 129, 270, 8)       1160      \n",
            "_________________________________________________________________\n",
            "up_sampling2d_2 (UpSampling2 (None, 258, 540, 8)       0         \n",
            "_________________________________________________________________\n",
            "conv2d_22 (Conv2D)           (None, 258, 540, 1)       73        \n",
            "=================================================================\n",
            "Total params: 343,937\n",
            "Trainable params: 343,937\n",
            "Non-trainable params: 0\n",
            "_________________________________________________________________\n",
            "Epoch 1/20\n",
            "48/48 [==============================] - 8s 177ms/step - loss: 0.0975\n",
            "Epoch 2/20\n",
            "48/48 [==============================] - 6s 120ms/step - loss: 0.0797\n",
            "Epoch 3/20\n",
            "40/48 [========================>.....] - ETA: 0s - loss: 0.0799"
          ],
          "name": "stdout"
        },
        {
          "output_type": "stream",
          "text": [
            "48/48 [==============================] - 6s 121ms/step - loss: 0.0797\n",
            "Epoch 4/20\n",
            "48/48 [==============================] - 6s 121ms/step - loss: 0.0879\n",
            "Epoch 5/20\n",
            "48/48 [==============================] - 6s 120ms/step - loss: 0.0784\n",
            "Epoch 6/20\n",
            "48/48 [==============================] - 6s 120ms/step - loss: 0.0779\n",
            "Epoch 7/20\n",
            "48/48 [==============================] - 6s 121ms/step - loss: 0.0763\n",
            "Epoch 8/20\n",
            "48/48 [==============================] - 6s 121ms/step - loss: 0.0685\n",
            "Epoch 9/20\n",
            "48/48 [==============================] - 6s 121ms/step - loss: 0.0581\n",
            "Epoch 10/20\n",
            "48/48 [==============================] - 6s 121ms/step - loss: 0.0502\n",
            "Epoch 11/20\n",
            "48/48 [==============================] - 6s 121ms/step - loss: 0.0487\n",
            "Epoch 12/20\n",
            "48/48 [==============================] - 6s 122ms/step - loss: 0.0377\n",
            "Epoch 13/20\n",
            "48/48 [==============================] - 6s 125ms/step - loss: 0.0344\n",
            "Epoch 14/20\n",
            "48/48 [==============================] - 6s 122ms/step - loss: 0.0335\n",
            "Epoch 15/20\n",
            "48/48 [==============================] - 6s 122ms/step - loss: 0.0277\n",
            "Epoch 16/20\n",
            "24/48 [==============>...............] - ETA: 2s - loss: 0.0293"
          ],
          "name": "stdout"
        },
        {
          "output_type": "stream",
          "text": [
            "48/48 [==============================] - 6s 122ms/step - loss: 0.0264\n",
            "Epoch 17/20\n",
            "48/48 [==============================] - 6s 122ms/step - loss: 0.0259\n",
            "Epoch 18/20\n",
            "48/48 [==============================] - 6s 122ms/step - loss: 0.0201\n",
            "Epoch 19/20\n",
            "48/48 [==============================] - 6s 122ms/step - loss: 0.0219\n",
            "Epoch 20/20\n",
            "48/48 [==============================] - 6s 122ms/step - loss: 0.0187\n"
          ],
          "name": "stdout"
        },
        {
          "output_type": "execute_result",
          "data": {
            "text/plain": [
              "<keras.callbacks.History at 0x7f4d01d4a198>"
            ]
          },
          "metadata": {
            "tags": []
          },
          "execution_count": 110
        }
      ]
    },
    {
      "metadata": {
        "id": "B1-EfP5t-kGw",
        "colab_type": "code",
        "colab": {
          "base_uri": "https://localhost:8080/",
          "height": 1235
        },
        "outputId": "3399e859-a001-4468-9349-281b4d0c2641"
      },
      "cell_type": "code",
      "source": [
        "# decoded_imgs = autoencoder.predict(x_test)\n",
        "from matplotlib import pyplot as plt\n",
        "from PIL import Image as Image\n",
        "import numpy as np\n",
        "def show_img_from_np(x_test):\n",
        "  from matplotlib import pyplot as plt\n",
        "  first_array=x_test\n",
        "  #Not sure you even have to do that if you just want to visualize it\n",
        "  first_array=255.*first_array\n",
        "  first_array=first_array.astype(\"float32\")\n",
        "  print(first_array.shape)\n",
        "  plt.imshow(first_array.reshape(420,540))\n",
        "  plt.grid(False)\n",
        "  plt.show()\n",
        "\n",
        "# i=42,21,23,31,46,47\n",
        "print(x_test.shape)\n",
        "i=42\n",
        "print('x_test')\n",
        "show_img_from_np(x_test[i])\n",
        "# print(x_test.shape)\n",
        "# print('decoded_imgs')\n",
        "# show_img_from_np(decoded_imgs[i])\n",
        "\n",
        "# test_list=[139,112,175,55,10,46,118,163,73,70,103,193,157,64,4,16,115,61,13,148,121,136,181,214,145,76,37,25,19,208,154,184,205,67,22,43,58,133,187,91,124,130,1,31,40,178,88,49,202,196,199,160,109,97,79,151,169,100,190,106,127,7,28,142,82,211,94,52,166,85,172,34]\n",
        "# print('test_median')\n",
        "# im = Image.open('./test_median/'+str(test_list[i])+'.png')\n",
        "# print(im.format, im.size, im.mode)\n",
        "# im.split()\n",
        "# plt.grid(False)\n",
        "# plt.imshow(np.asarray(im))"
      ],
      "execution_count": 206,
      "outputs": [
        {
          "output_type": "stream",
          "text": [
            "(72, 420, 540, 1)\n",
            "x_test\n",
            "[[[0.99609375]\n",
            "  [0.99609375]\n",
            "  [0.99609375]\n",
            "  ...\n",
            "  [0.99609375]\n",
            "  [0.99609375]\n",
            "  [0.99609375]]\n",
            "\n",
            " [[0.99609375]\n",
            "  [0.99609375]\n",
            "  [0.99609375]\n",
            "  ...\n",
            "  [0.99609375]\n",
            "  [0.99609375]\n",
            "  [0.99609375]]\n",
            "\n",
            " [[0.99609375]\n",
            "  [0.99609375]\n",
            "  [0.99609375]\n",
            "  ...\n",
            "  [0.99609375]\n",
            "  [0.99609375]\n",
            "  [0.99609375]]\n",
            "\n",
            " ...\n",
            "\n",
            " [[0.99609375]\n",
            "  [0.99609375]\n",
            "  [0.99609375]\n",
            "  ...\n",
            "  [0.99609375]\n",
            "  [0.99609375]\n",
            "  [0.99609375]]\n",
            "\n",
            " [[0.99609375]\n",
            "  [0.99609375]\n",
            "  [0.99609375]\n",
            "  ...\n",
            "  [0.99609375]\n",
            "  [0.99609375]\n",
            "  [0.99609375]]\n",
            "\n",
            " [[0.99609375]\n",
            "  [0.99609375]\n",
            "  [0.99609375]\n",
            "  ...\n",
            "  [0.99609375]\n",
            "  [0.99609375]\n",
            "  [0.99609375]]]\n",
            "(420, 540, 1)\n"
          ],
          "name": "stdout"
        },
        {
          "output_type": "display_data",
          "data": {
            "image/png": "[encoded data removed]",
            "text/plain": [
              "<matplotlib.figure.Figure at 0x7f4d1bf523c8>"
            ]
          },
          "metadata": {
            "tags": []
          }
        }
      ]
    },
    {
      "metadata": {
        "id": "el526XoTc4to",
        "colab_type": "code",
        "colab": {
          "base_uri": "https://localhost:8080/",
          "height": 68
        },
        "outputId": "b2bb5fb6-dad9-49a1-e573-bec495908552"
      },
      "cell_type": "code",
      "source": [
        "#JUNK\n",
        "\n",
        "# for f in os.listdir(imgdir_path):\n",
        "#     out_path=imgdir_path+str(f)\n",
        "\n",
        "#x = np.array([np.array(Image.open(fname)) for fname in filelist])\n",
        "# path='/content/datalab/train/'\n",
        "# x = [np.array(Image.open(path+f)) for f in os.listdir(path)]\n",
        "# print(x.shape)\n",
        "\n",
        "# from keras.preprocessing.image import ImageDataGenerator, array_to_img, img_to_array, load_img\n",
        "print(x_test[1].shape)\n",
        "l = x_test[1]\n",
        "print(l[0,0,0])\n",
        "m = x_test[1].reshape(420,540)\n",
        "print(m[0,0])\n",
        "import csv\n",
        "for n in range(x_test.shape[0]):\n",
        "  for row in range(x_test.shape[1]):\n",
        "    for col in range(x_test.shape[2]):\n",
        "      m = x_test[n].reshape(420,540)\n",
        "#         print('{}_{}_{},{}'.format(test_list[n],(row+1),(col+1),m[row,col]))\n",
        "      with open('deep_autoenc.csv', 'a') as csvfile:\n",
        "          writer = csv.writer(csvfile, delimiter=',',quotechar='|', quoting=csv.QUOTE_MINIMAL)\n",
        "          writer.writerow( [ str(test_list[n])+'_'+str(row+1)+'_'+str(col+1) ]+[ str(m[row,col]) ] )\n"
      ],
      "execution_count": 0,
      "outputs": [
        {
          "output_type": "stream",
          "text": [
            "(420, 540, 1)\n",
            "0.93359375\n",
            "0.93359375\n"
          ],
          "name": "stdout"
        }
      ]
    },
    {
      "metadata": {
        "id": "ndEISgaQjJPX",
        "colab_type": "code",
        "colab": {
          "base_uri": "https://localhost:8080/",
          "height": 51
        },
        "outputId": "73efc3cc-ba7a-457f-e00d-c08c165c7072"
      },
      "cell_type": "code",
      "source": [
        "#JUNK\n",
        "from skimage import io\n",
        "all_images = np.empty((144,540,240,1))\n",
        "t=0\n",
        "for image_path in os.listdir(path):\n",
        "  img = io.imread(path+image_path , as_grey=True)\n",
        "  WIDTH = img.shape[0]\n",
        "  HEIGHT = img.shape[1]\n",
        "  img = img.reshape([WIDTH, HEIGHT, 1])\n",
        "  #print(img[1,1,0])\n",
        "  #all_images.append(img)\n",
        "  np.append(all_images, img)\n",
        "#   all_images[t,] = img\n",
        "#   t+=1\n",
        "x_train = np.array(all_images)\n",
        "print(type(x_train))\n",
        "print(all_images.shape)"
      ],
      "execution_count": 0,
      "outputs": [
        {
          "output_type": "stream",
          "text": [
            "<class 'numpy.ndarray'>\n",
            "(144, 540, 240, 1)\n"
          ],
          "name": "stdout"
        }
      ]
    },
    {
      "metadata": {
        "id": "qsbVJNgCspCF",
        "colab_type": "code",
        "colab": {
          "base_uri": "https://localhost:8080/",
          "height": 5712
        },
        "outputId": "df87b2cd-f109-42c6-e4f0-90284048b949"
      },
      "cell_type": "code",
      "source": [
        "def img2nparray(path):\n",
        "  from scipy import ndimage\n",
        "  from keras.preprocessing.image import ImageDataGenerator, array_to_img, img_to_array, load_img\n",
        "  import os\n",
        "  import numpy as np\n",
        "\n",
        "  train_files = []\n",
        "  y_train = []\n",
        "  i=0\n",
        "  #for _file in onlyfiles:\n",
        "  for _file in os.listdir(path):\n",
        "      train_files.append(_file)\n",
        "  #     label_in_file = _file.find(\"_\")\n",
        "  #     y_train.append(int(_file[0:label_in_file]))\n",
        "\n",
        "  print(\"Files in train_files: {}\".format(len(train_files)))\n",
        "\n",
        "  # Original Dimensions\n",
        "  image_width = 540\n",
        "  image_height = 258\n",
        "  # ratio = 4\n",
        "\n",
        "  # image_width = int(image_width / ratio)\n",
        "  # image_height = int(image_height / ratio)\n",
        "\n",
        "  # channels = 3\n",
        "  channels = 1\n",
        "  # nb_classes = 1\n",
        "\n",
        "  dataset = np.ndarray(shape=(len(train_files), image_height, image_width, channels),\n",
        "                       dtype=np.float32)\n",
        "\n",
        "  i = 0\n",
        "  for _file in train_files:\n",
        "      img = load_img(path + \"/\" + _file,grayscale=True)  # this is a PIL image\n",
        "      img.thumbnail((image_width, image_height))\n",
        "      # Convert to Numpy Array\n",
        "      x = img_to_array(img)  \n",
        "  #     x = x.reshape((3, 120, 160))\n",
        "  #     # Normalize\n",
        "  #     x = (x - 128.0) / 128.0\n",
        "      x = x / 256.0\n",
        "      print(_file)\n",
        "      dataset[i] = x\n",
        "      i += 1\n",
        "      if i % 250 == 0:\n",
        "          print(\"%d images to array\" % i)\n",
        "  print(\"All images to array!\")\n",
        "  return dataset\n",
        "\n",
        "# path='datalab/train'\n",
        "# X_train = img2nparray(path)\n",
        "# print(X_train.shape)\n",
        "\n",
        "# path='datalab/train'\n",
        "# y_train = img2nparray(path)\n",
        "# print(y_train.shape)\n",
        "\n",
        "path='datalab/test_small'\n",
        "x_test = img2nparray(path)\n",
        "print(x_test.shape)\n",
        "print(x_test.dtype)\n",
        "print(x_test)"
      ],
      "execution_count": 218,
      "outputs": [
        {
          "output_type": "stream",
          "text": [
            "Files in train_files: 24\n",
            "55.png\n",
            "10.png\n",
            "46.png\n",
            "70.png\n",
            "64.png\n",
            "4.png\n",
            "16.png\n",
            "61.png\n",
            "13.png\n",
            "37.png\n",
            "25.png\n",
            "19.png\n",
            "67.png\n",
            "22.png\n",
            "43.png\n",
            "58.png\n",
            "1.png\n",
            "31.png\n",
            "40.png\n",
            "49.png\n",
            "7.png\n",
            "28.png\n",
            "52.png\n",
            "34.png\n",
            "All images to array!\n",
            "(24, 258, 540, 1)\n",
            "float32\n",
            "[[[[0.83984375]\n",
            "   [0.85546875]\n",
            "   [0.84375   ]\n",
            "   ...\n",
            "   [0.81640625]\n",
            "   [0.80859375]\n",
            "   [0.76953125]]\n",
            "\n",
            "  [[0.89453125]\n",
            "   [0.875     ]\n",
            "   [0.8359375 ]\n",
            "   ...\n",
            "   [0.84375   ]\n",
            "   [0.8359375 ]\n",
            "   [0.82421875]]\n",
            "\n",
            "  [[0.859375  ]\n",
            "   [0.85546875]\n",
            "   [0.81640625]\n",
            "   ...\n",
            "   [0.84375   ]\n",
            "   [0.8046875 ]\n",
            "   [0.80859375]]\n",
            "\n",
            "  ...\n",
            "\n",
            "  [[0.8671875 ]\n",
            "   [0.8515625 ]\n",
            "   [0.8359375 ]\n",
            "   ...\n",
            "   [0.8125    ]\n",
            "   [0.8046875 ]\n",
            "   [0.79296875]]\n",
            "\n",
            "  [[0.85546875]\n",
            "   [0.86328125]\n",
            "   [0.83203125]\n",
            "   ...\n",
            "   [0.81640625]\n",
            "   [0.82421875]\n",
            "   [0.79296875]]\n",
            "\n",
            "  [[0.84375   ]\n",
            "   [0.83203125]\n",
            "   [0.80859375]\n",
            "   ...\n",
            "   [0.81640625]\n",
            "   [0.8046875 ]\n",
            "   [0.7890625 ]]]\n",
            "\n",
            "\n",
            " [[[0.93359375]\n",
            "   [0.91015625]\n",
            "   [0.90234375]\n",
            "   ...\n",
            "   [0.66015625]\n",
            "   [0.6875    ]\n",
            "   [0.7265625 ]]\n",
            "\n",
            "  [[0.90625   ]\n",
            "   [0.91015625]\n",
            "   [0.90234375]\n",
            "   ...\n",
            "   [0.5859375 ]\n",
            "   [0.625     ]\n",
            "   [0.703125  ]]\n",
            "\n",
            "  [[0.91796875]\n",
            "   [0.9296875 ]\n",
            "   [0.921875  ]\n",
            "   ...\n",
            "   [0.61328125]\n",
            "   [0.58984375]\n",
            "   [0.6015625 ]]\n",
            "\n",
            "  ...\n",
            "\n",
            "  [[0.8125    ]\n",
            "   [0.80859375]\n",
            "   [0.8203125 ]\n",
            "   ...\n",
            "   [0.75390625]\n",
            "   [0.7421875 ]\n",
            "   [0.765625  ]]\n",
            "\n",
            "  [[0.8203125 ]\n",
            "   [0.8359375 ]\n",
            "   [0.86328125]\n",
            "   ...\n",
            "   [0.7578125 ]\n",
            "   [0.77734375]\n",
            "   [0.828125  ]]\n",
            "\n",
            "  [[0.85546875]\n",
            "   [0.8671875 ]\n",
            "   [0.875     ]\n",
            "   ...\n",
            "   [0.74609375]\n",
            "   [0.8046875 ]\n",
            "   [0.8671875 ]]]\n",
            "\n",
            "\n",
            " [[[0.93359375]\n",
            "   [0.91015625]\n",
            "   [0.90234375]\n",
            "   ...\n",
            "   [0.66015625]\n",
            "   [0.6875    ]\n",
            "   [0.7265625 ]]\n",
            "\n",
            "  [[0.90625   ]\n",
            "   [0.91015625]\n",
            "   [0.90234375]\n",
            "   ...\n",
            "   [0.5859375 ]\n",
            "   [0.625     ]\n",
            "   [0.703125  ]]\n",
            "\n",
            "  [[0.91796875]\n",
            "   [0.9296875 ]\n",
            "   [0.921875  ]\n",
            "   ...\n",
            "   [0.61328125]\n",
            "   [0.58984375]\n",
            "   [0.6015625 ]]\n",
            "\n",
            "  ...\n",
            "\n",
            "  [[0.8125    ]\n",
            "   [0.80859375]\n",
            "   [0.8203125 ]\n",
            "   ...\n",
            "   [0.75390625]\n",
            "   [0.7421875 ]\n",
            "   [0.765625  ]]\n",
            "\n",
            "  [[0.8203125 ]\n",
            "   [0.8359375 ]\n",
            "   [0.86328125]\n",
            "   ...\n",
            "   [0.7578125 ]\n",
            "   [0.77734375]\n",
            "   [0.828125  ]]\n",
            "\n",
            "  [[0.85546875]\n",
            "   [0.8671875 ]\n",
            "   [0.875     ]\n",
            "   ...\n",
            "   [0.74609375]\n",
            "   [0.8046875 ]\n",
            "   [0.8671875 ]]]\n",
            "\n",
            "\n",
            " ...\n",
            "\n",
            "\n",
            " [[[0.90234375]\n",
            "   [0.89453125]\n",
            "   [0.890625  ]\n",
            "   ...\n",
            "   [0.875     ]\n",
            "   [0.86328125]\n",
            "   [0.8671875 ]]\n",
            "\n",
            "  [[0.90625   ]\n",
            "   [0.9140625 ]\n",
            "   [0.91015625]\n",
            "   ...\n",
            "   [0.86328125]\n",
            "   [0.8359375 ]\n",
            "   [0.83984375]]\n",
            "\n",
            "  [[0.8828125 ]\n",
            "   [0.890625  ]\n",
            "   [0.8828125 ]\n",
            "   ...\n",
            "   [0.84765625]\n",
            "   [0.8515625 ]\n",
            "   [0.8515625 ]]\n",
            "\n",
            "  ...\n",
            "\n",
            "  [[0.984375  ]\n",
            "   [0.9921875 ]\n",
            "   [0.98828125]\n",
            "   ...\n",
            "   [0.93359375]\n",
            "   [0.87109375]\n",
            "   [0.83984375]]\n",
            "\n",
            "  [[0.98828125]\n",
            "   [0.98828125]\n",
            "   [0.97265625]\n",
            "   ...\n",
            "   [0.93359375]\n",
            "   [0.92578125]\n",
            "   [0.87890625]]\n",
            "\n",
            "  [[0.9765625 ]\n",
            "   [0.98046875]\n",
            "   [0.95703125]\n",
            "   ...\n",
            "   [0.9453125 ]\n",
            "   [0.92578125]\n",
            "   [0.92578125]]]\n",
            "\n",
            "\n",
            " [[[0.90234375]\n",
            "   [0.89453125]\n",
            "   [0.890625  ]\n",
            "   ...\n",
            "   [0.875     ]\n",
            "   [0.86328125]\n",
            "   [0.8671875 ]]\n",
            "\n",
            "  [[0.90625   ]\n",
            "   [0.9140625 ]\n",
            "   [0.91015625]\n",
            "   ...\n",
            "   [0.86328125]\n",
            "   [0.8359375 ]\n",
            "   [0.83984375]]\n",
            "\n",
            "  [[0.8828125 ]\n",
            "   [0.890625  ]\n",
            "   [0.8828125 ]\n",
            "   ...\n",
            "   [0.84765625]\n",
            "   [0.8515625 ]\n",
            "   [0.8515625 ]]\n",
            "\n",
            "  ...\n",
            "\n",
            "  [[0.984375  ]\n",
            "   [0.9921875 ]\n",
            "   [0.98828125]\n",
            "   ...\n",
            "   [0.93359375]\n",
            "   [0.87109375]\n",
            "   [0.83984375]]\n",
            "\n",
            "  [[0.98828125]\n",
            "   [0.98828125]\n",
            "   [0.97265625]\n",
            "   ...\n",
            "   [0.93359375]\n",
            "   [0.92578125]\n",
            "   [0.87890625]]\n",
            "\n",
            "  [[0.9765625 ]\n",
            "   [0.98046875]\n",
            "   [0.95703125]\n",
            "   ...\n",
            "   [0.9453125 ]\n",
            "   [0.92578125]\n",
            "   [0.92578125]]]\n",
            "\n",
            "\n",
            " [[[0.93359375]\n",
            "   [0.91015625]\n",
            "   [0.90234375]\n",
            "   ...\n",
            "   [0.66015625]\n",
            "   [0.6875    ]\n",
            "   [0.7265625 ]]\n",
            "\n",
            "  [[0.90625   ]\n",
            "   [0.91015625]\n",
            "   [0.90234375]\n",
            "   ...\n",
            "   [0.5859375 ]\n",
            "   [0.625     ]\n",
            "   [0.703125  ]]\n",
            "\n",
            "  [[0.91796875]\n",
            "   [0.9296875 ]\n",
            "   [0.921875  ]\n",
            "   ...\n",
            "   [0.61328125]\n",
            "   [0.58984375]\n",
            "   [0.6015625 ]]\n",
            "\n",
            "  ...\n",
            "\n",
            "  [[0.8125    ]\n",
            "   [0.80859375]\n",
            "   [0.8203125 ]\n",
            "   ...\n",
            "   [0.75390625]\n",
            "   [0.7421875 ]\n",
            "   [0.765625  ]]\n",
            "\n",
            "  [[0.8203125 ]\n",
            "   [0.8359375 ]\n",
            "   [0.86328125]\n",
            "   ...\n",
            "   [0.7578125 ]\n",
            "   [0.77734375]\n",
            "   [0.828125  ]]\n",
            "\n",
            "  [[0.85546875]\n",
            "   [0.8671875 ]\n",
            "   [0.875     ]\n",
            "   ...\n",
            "   [0.74609375]\n",
            "   [0.8046875 ]\n",
            "   [0.8671875 ]]]]\n"
          ],
          "name": "stdout"
        }
      ]
    },
    {
      "metadata": {
        "id": "M3O4I7I2Clei",
        "colab_type": "code",
        "colab": {
          "base_uri": "https://localhost:8080/",
          "height": 2034
        },
        "outputId": "350eea71-e4bb-42f8-ec5a-36a1a8eceebe"
      },
      "cell_type": "code",
      "source": [
        "file_list=(139,208,124,148,145,211,103,202,112,76,199,166,79,172,73,178,169,82,181,190,151,205,160,175,157,187,214,85,193,133,100,109,154,115,184,127,130,136,94,142,196,106,97,163,118,121,91,88)\n",
        "print(len(file_list))\n",
        "# for x in file_list:\n",
        "#   print(x)\n",
        "import numpy as np\n",
        "out=(decoded_imgs.reshape(48,420,540))\n",
        "print(np.ndindex(out.shape))\n",
        "print(out[1,1,1])\n",
        "t=0\n",
        "for x in range(len(file_list)):\n",
        "  c = out[x,:,:]\n",
        "  print(c)\n",
        "  for index in np.ndindex(c.shape[:]):    \n",
        "    print(index)\n",
        "    print([ str(file_list[t])+'_'+str(index[0]+1)+'_'+str(index[1]+1) ]+[ str(out[t,index[0],index[1]]) ])\n",
        "    t += 1\n"
      ],
      "execution_count": 0,
      "outputs": [
        {
          "output_type": "stream",
          "text": [
            "48\n",
            "<numpy.lib.index_tricks.ndindex object at 0x7f2ff443acc0>\n",
            "0.99959415\n",
            "[[0.98633456 0.9981232  0.9985129  ... 0.92079175 0.8283129  0.67424154]\n",
            " [0.99600935 0.9994649  0.9995832  ... 0.9732853  0.8951849  0.7526121 ]\n",
            " [0.9984452  0.9999006  0.9999372  ... 0.9968123  0.97759354 0.87963957]\n",
            " ...\n",
            " [0.91150194 0.98989886 0.9955042  ... 0.9865129  0.90657157 0.6848021 ]\n",
            " [0.86888677 0.9769807  0.9891495  ... 0.97592247 0.88807225 0.7111431 ]\n",
            " [0.7579126  0.9188984  0.9523346  ... 0.9436614  0.86525446 0.71400636]]\n",
            "(0, 0)\n",
            "['139_1_1', '0.98633456']\n",
            "(0, 1)\n",
            "['208_1_2', '0.9984503']\n",
            "(0, 2)\n",
            "['124_1_3', '0.9988451']\n",
            "(0, 3)\n",
            "['148_1_4', '0.99865687']\n",
            "(0, 4)\n",
            "['145_1_5', '0.99793905']\n",
            "(0, 5)\n",
            "['211_1_6', '0.99581486']\n",
            "(0, 6)\n",
            "['103_1_7', '0.99598086']\n",
            "(0, 7)\n",
            "['202_1_8', '0.9945042']\n",
            "(0, 8)\n",
            "['112_1_9', '0.9944916']\n",
            "(0, 9)\n",
            "['76_1_10', '0.9945879']\n",
            "(0, 10)\n",
            "['199_1_11', '0.99538994']\n",
            "(0, 11)\n",
            "['166_1_12', '0.9898537']\n",
            "(0, 12)\n",
            "['79_1_13', '0.9955069']\n",
            "(0, 13)\n",
            "['172_1_14', '0.9955751']\n",
            "(0, 14)\n",
            "['73_1_15', '0.99563545']\n",
            "(0, 15)\n",
            "['178_1_16', '0.9921389']\n",
            "(0, 16)\n",
            "['169_1_17', '0.9960521']\n",
            "(0, 17)\n",
            "['82_1_18', '0.991376']\n",
            "(0, 18)\n",
            "['181_1_19', '0.9954353']\n",
            "(0, 19)\n",
            "['190_1_20', '0.99217695']\n",
            "(0, 20)\n",
            "['151_1_21', '0.99577975']\n",
            "(0, 21)\n",
            "['205_1_22', '0.9950858']\n",
            "(0, 22)\n",
            "['160_1_23', '0.9948474']\n",
            "(0, 23)\n",
            "['175_1_24', '0.99556077']\n",
            "(0, 24)\n",
            "['157_1_25', '0.9954821']\n",
            "(0, 25)\n",
            "['187_1_26', '0.9956208']\n",
            "(0, 26)\n",
            "['214_1_27', '0.99476576']\n",
            "(0, 27)\n",
            "['85_1_28', '0.9950647']\n",
            "(0, 28)\n",
            "['193_1_29', '0.9951298']\n",
            "(0, 29)\n",
            "['133_1_30', '0.99512994']\n",
            "(0, 30)\n",
            "['100_1_31', '0.9949433']\n",
            "(0, 31)\n",
            "['109_1_32', '0.9948826']\n",
            "(0, 32)\n",
            "['154_1_33', '0.9955016']\n",
            "(0, 33)\n",
            "['115_1_34', '0.99374735']\n",
            "(0, 34)\n",
            "['184_1_35', '0.9941818']\n",
            "(0, 35)\n",
            "['127_1_36', '0.99343747']\n",
            "(0, 36)\n",
            "['130_1_37', '0.99517643']\n",
            "(0, 37)\n",
            "['136_1_38', '0.99494815']\n",
            "(0, 38)\n",
            "['94_1_39', '0.99481505']\n",
            "(0, 39)\n",
            "['142_1_40', '0.9941267']\n",
            "(0, 40)\n",
            "['196_1_41', '0.99542564']\n",
            "(0, 41)\n",
            "['106_1_42', '0.9946466']\n",
            "(0, 42)\n",
            "['97_1_43', '0.99529713']\n",
            "(0, 43)\n",
            "['163_1_44', '0.99648786']\n",
            "(0, 44)\n",
            "['118_1_45', '0.99918336']\n",
            "(0, 45)\n",
            "['121_1_46', '0.9985322']\n",
            "(0, 46)\n",
            "['91_1_47', '0.9953004']\n",
            "(0, 47)\n",
            "['88_1_48', '0.9965191']\n",
            "(0, 48)\n"
          ],
          "name": "stdout"
        },
        {
          "output_type": "error",
          "ename": "IndexError",
          "evalue": "ignored",
          "traceback": [
            "\u001b[0;31m---------------------------------------------------------------------------\u001b[0m",
            "\u001b[0;31mIndexError\u001b[0m                                Traceback (most recent call last)",
            "\u001b[0;32m<ipython-input-121-c3825f2f78cb>\u001b[0m in \u001b[0;36m<module>\u001b[0;34m()\u001b[0m\n\u001b[1;32m     17\u001b[0m   \u001b[0;31m#   print( [ str(file_list[t]) + '_' + str(index[0]+1) + '_' + str(index[1]+1) ] + [ str(out[t,index[0],index[1]] ])\u001b[0m\u001b[0;34m\u001b[0m\u001b[0;34m\u001b[0m\u001b[0m\n\u001b[1;32m     18\u001b[0m     \u001b[0mprint\u001b[0m\u001b[0;34m(\u001b[0m\u001b[0mindex\u001b[0m\u001b[0;34m)\u001b[0m\u001b[0;34m\u001b[0m\u001b[0m\n\u001b[0;32m---> 19\u001b[0;31m     \u001b[0mprint\u001b[0m\u001b[0;34m(\u001b[0m\u001b[0;34m[\u001b[0m \u001b[0mstr\u001b[0m\u001b[0;34m(\u001b[0m\u001b[0mfile_list\u001b[0m\u001b[0;34m[\u001b[0m\u001b[0mt\u001b[0m\u001b[0;34m]\u001b[0m\u001b[0;34m)\u001b[0m\u001b[0;34m+\u001b[0m\u001b[0;34m'_'\u001b[0m\u001b[0;34m+\u001b[0m\u001b[0mstr\u001b[0m\u001b[0;34m(\u001b[0m\u001b[0mindex\u001b[0m\u001b[0;34m[\u001b[0m\u001b[0;36m0\u001b[0m\u001b[0;34m]\u001b[0m\u001b[0;34m+\u001b[0m\u001b[0;36m1\u001b[0m\u001b[0;34m)\u001b[0m\u001b[0;34m+\u001b[0m\u001b[0;34m'_'\u001b[0m\u001b[0;34m+\u001b[0m\u001b[0mstr\u001b[0m\u001b[0;34m(\u001b[0m\u001b[0mindex\u001b[0m\u001b[0;34m[\u001b[0m\u001b[0;36m1\u001b[0m\u001b[0;34m]\u001b[0m\u001b[0;34m+\u001b[0m\u001b[0;36m1\u001b[0m\u001b[0;34m)\u001b[0m \u001b[0;34m]\u001b[0m\u001b[0;34m+\u001b[0m\u001b[0;34m[\u001b[0m \u001b[0mstr\u001b[0m\u001b[0;34m(\u001b[0m\u001b[0mout\u001b[0m\u001b[0;34m[\u001b[0m\u001b[0mt\u001b[0m\u001b[0;34m,\u001b[0m\u001b[0mindex\u001b[0m\u001b[0;34m[\u001b[0m\u001b[0;36m0\u001b[0m\u001b[0;34m]\u001b[0m\u001b[0;34m,\u001b[0m\u001b[0mindex\u001b[0m\u001b[0;34m[\u001b[0m\u001b[0;36m1\u001b[0m\u001b[0;34m]\u001b[0m\u001b[0;34m]\u001b[0m\u001b[0;34m)\u001b[0m \u001b[0;34m]\u001b[0m\u001b[0;34m)\u001b[0m\u001b[0;34m\u001b[0m\u001b[0m\n\u001b[0m\u001b[1;32m     20\u001b[0m     \u001b[0mt\u001b[0m \u001b[0;34m+=\u001b[0m \u001b[0;36m1\u001b[0m\u001b[0;34m\u001b[0m\u001b[0m\n",
            "\u001b[0;31mIndexError\u001b[0m: tuple index out of range"
          ]
        }
      ]
    },
    {
      "metadata": {
        "id": "Amn7DTUJHi-g",
        "colab_type": "code",
        "colab": {
          "base_uri": "https://localhost:8080/",
          "height": 68
        },
        "outputId": "57ba0cf9-1acb-487d-c240-73592d278580"
      },
      "cell_type": "code",
      "source": [
        "!ls test_op | wc -l\n",
        "!ls\n",
        "# # !rm test_op/*\n",
        "# !ls test_op | wc -l\n",
        "# # !mkdir test1_op\n",
        "# !mv *.png test_op\n",
        "# import scipy.misc\n",
        "# file_list=(139,208,124,148,145,211,103,202,112,76,199,166,79,172,73,178,169,82,181,190,151,205,160,175,157,187,214,85,193,133,100,109,154,115,184,127,130,136,94,142,196,106,97,163,118,121,91,88)\n",
        "# print(len(file_list))\n",
        "# import numpy as np\n",
        "# out=(decoded_imgs.reshape(48,420,540))*255\n",
        "# print(out.shape[0])\n",
        "# for i in range(out.shape[0]):\n",
        "#   scipy.misc.toimage(out[i,:,:]).save(str(file_list[i])+'.png')\n",
        "#   print(out[i,:,:])"
      ],
      "execution_count": 0,
      "outputs": [
        {
          "output_type": "stream",
          "text": [
            "72\n",
            "datalab  eggs.csv  tb  test1_op  test_op\n",
            "mv: cannot stat '*.png': No such file or directory\n"
          ],
          "name": "stdout"
        }
      ]
    },
    {
      "metadata": {
        "id": "9pzKwgScNOtS",
        "colab_type": "code",
        "colab": {
          "base_uri": "https://localhost:8080/",
          "height": 2482
        },
        "outputId": "dbf34600-19b6-4821-ac38-8578314b9cb8"
      },
      "cell_type": "code",
      "source": [
        "import time\n",
        "import csv\n",
        "img_no=1\n",
        "tick=time.time()\n",
        "for f in os.listdir('test_op/'):\n",
        "  out_path='test_op/'+str(f)\n",
        "  img = np.asarray(Image.open(out_path))/255.0\n",
        "  print('writing img#{} to csv'.format(img_no))\n",
        "  for index in np.ndindex(img.shape[:]):    \n",
        "    with open('mix.csv', 'a') as csvfile:\n",
        "        writer = csv.writer(csvfile, delimiter=',',quotechar='|', quoting=csv.QUOTE_MINIMAL)\n",
        "        writer.writerow( [ str(f.split('.')[0])+'_'+str(index[0]+1)+'_'+str(index[1]+1) ]+[ str(img[index[0],index[1]]) ] )\n",
        "  img_no+=1\n",
        "  tock1=time.time()\n",
        "  print('time to copy {}: {}'.format(f,str(tock1-tick)))\n",
        "#   if img_no > 1:\n",
        "#     break\n",
        "tock=time.time()\n",
        "print('time taken: '+str(tock-tick))\n"
      ],
      "execution_count": 0,
      "outputs": [
        {
          "output_type": "stream",
          "text": [
            "writing img#1 to csv\n",
            "time to copy 139.png: 19.046212434768677\n",
            "writing img#2 to csv\n",
            "time to copy 208.png: 37.7044460773468\n",
            "writing img#3 to csv\n",
            "time to copy 124.png: 56.12141466140747\n",
            "writing img#4 to csv\n",
            "time to copy 52.png: 67.40902614593506\n",
            "writing img#5 to csv\n",
            "time to copy 34.png: 78.93252611160278\n",
            "writing img#6 to csv\n",
            "time to copy 148.png: 98.6608555316925\n",
            "writing img#7 to csv\n",
            "time to copy 7.png: 110.80612754821777\n",
            "writing img#8 to csv\n",
            "time to copy 43.png: 123.15857148170471\n",
            "writing img#9 to csv\n",
            "time to copy 145.png: 143.55552458763123\n",
            "writing img#10 to csv\n",
            "time to copy 19.png: 156.26391124725342\n",
            "writing img#11 to csv\n",
            "time to copy 211.png: 176.9255428314209\n",
            "writing img#12 to csv\n",
            "time to copy 64.png: 188.86388206481934\n",
            "writing img#13 to csv\n",
            "time to copy 103.png: 207.67635464668274\n",
            "writing img#14 to csv\n",
            "time to copy 202.png: 226.31746435165405\n",
            "writing img#15 to csv\n",
            "time to copy 46.png: 237.6920382976532\n",
            "writing img#16 to csv\n",
            "time to copy 112.png: 256.1651451587677\n",
            "writing img#17 to csv\n",
            "time to copy 76.png: 274.9344778060913\n",
            "writing img#18 to csv\n",
            "time to copy 199.png: 293.86949038505554\n",
            "writing img#19 to csv\n",
            "time to copy 70.png: 305.1225428581238\n",
            "writing img#20 to csv\n",
            "time to copy 40.png: 316.860121011734\n",
            "writing img#21 to csv\n",
            "time to copy 25.png: 328.34257531166077\n",
            "writing img#22 to csv\n",
            "time to copy 166.png: 347.12421917915344\n",
            "writing img#23 to csv\n",
            "time to copy 79.png: 366.02982687950134\n",
            "writing img#24 to csv\n",
            "time to copy 172.png: 384.66225719451904\n",
            "writing img#25 to csv\n",
            "time to copy 73.png: 403.8235514163971\n",
            "writing img#26 to csv\n",
            "time to copy 178.png: 423.7239873409271\n",
            "writing img#27 to csv\n",
            "time to copy 67.png: 437.1417033672333\n",
            "writing img#28 to csv\n",
            "time to copy 49.png: 449.3479778766632\n",
            "writing img#29 to csv\n",
            "time to copy 37.png: 460.8535349369049\n",
            "writing img#30 to csv\n",
            "time to copy 169.png: 479.6398413181305\n",
            "writing img#31 to csv\n",
            "time to copy 82.png: 498.2856011390686\n",
            "writing img#32 to csv\n",
            "time to copy 16.png: 509.93762469291687\n",
            "writing img#33 to csv\n",
            "time to copy 181.png: 529.1507108211517\n",
            "writing img#34 to csv\n",
            "time to copy 10.png: 540.4943499565125\n",
            "writing img#35 to csv\n",
            "time to copy 190.png: 558.8807854652405\n",
            "writing img#36 to csv\n",
            "time to copy 151.png: 577.4899678230286\n",
            "writing img#37 to csv\n",
            "time to copy 205.png: 596.5446937084198\n",
            "writing img#38 to csv\n",
            "time to copy 160.png: 615.8581237792969\n",
            "writing img#39 to csv\n",
            "time to copy 175.png: 635.8052265644073\n",
            "writing img#40 to csv\n",
            "time to copy 1.png: 647.8232033252716\n",
            "writing img#41 to csv\n",
            "time to copy 157.png: 667.4997911453247\n",
            "writing img#42 to csv\n",
            "time to copy 187.png: 687.7403955459595\n",
            "writing img#43 to csv\n",
            "time to copy 214.png: 707.4797027111053\n",
            "writing img#44 to csv\n",
            "time to copy 31.png: 718.9673948287964\n",
            "writing img#45 to csv\n",
            "time to copy 58.png: 730.3966083526611\n",
            "writing img#46 to csv\n",
            "time to copy 85.png: 749.0767712593079\n",
            "writing img#47 to csv\n",
            "time to copy 22.png: 760.4803488254547\n",
            "writing img#48 to csv\n",
            "time to copy 193.png: 779.0819220542908\n",
            "writing img#49 to csv\n",
            "time to copy 133.png: 798.1910767555237\n",
            "writing img#50 to csv\n",
            "time to copy 100.png: 816.8144426345825\n",
            "writing img#51 to csv\n",
            "time to copy 109.png: 835.5526854991913\n",
            "writing img#52 to csv\n",
            "time to copy 154.png: 854.4035475254059\n",
            "writing img#53 to csv\n",
            "time to copy 55.png: 865.7254428863525\n",
            "writing img#54 to csv\n",
            "time to copy 13.png: 877.2718341350555\n",
            "writing img#55 to csv\n",
            "time to copy 115.png: 895.9516558647156\n",
            "writing img#56 to csv\n",
            "time to copy 184.png: 915.1670670509338\n",
            "writing img#57 to csv\n"
          ],
          "name": "stdout"
        },
        {
          "output_type": "stream",
          "text": [
            "time to copy 127.png: 935.624433517456\n",
            "writing img#58 to csv\n",
            "time to copy 130.png: 955.9474806785583\n",
            "writing img#59 to csv\n",
            "time to copy 136.png: 975.4132404327393\n",
            "writing img#60 to csv\n",
            "time to copy 94.png: 994.7887065410614\n",
            "writing img#61 to csv\n",
            "time to copy 142.png: 1013.6540644168854\n",
            "writing img#62 to csv\n",
            "time to copy 196.png: 1032.2470948696136\n",
            "writing img#63 to csv\n",
            "time to copy 106.png: 1050.978933095932\n",
            "writing img#64 to csv\n",
            "time to copy 97.png: 1070.7883684635162\n",
            "writing img#65 to csv\n",
            "time to copy 4.png: 1083.2243268489838\n",
            "writing img#66 to csv\n",
            "time to copy 61.png: 1095.5931296348572\n",
            "writing img#67 to csv\n",
            "time to copy 163.png: 1117.203075170517\n",
            "writing img#68 to csv\n",
            "time to copy 28.png: 1130.1534895896912\n",
            "writing img#69 to csv\n",
            "time to copy 118.png: 1152.0264854431152\n",
            "writing img#70 to csv\n",
            "time to copy 121.png: 1172.6309924125671\n",
            "writing img#71 to csv\n",
            "time to copy 91.png: 1191.31014752388\n",
            "writing img#72 to csv\n",
            "time to copy 88.png: 1209.7989268302917\n",
            "time taken: 1209.7996008396149\n"
          ],
          "name": "stdout"
        }
      ]
    },
    {
      "metadata": {
        "id": "lzhm472yNt2w",
        "colab_type": "code",
        "colab": {
          "base_uri": "https://localhost:8080/",
          "height": 51
        },
        "outputId": "320e788a-d8ea-4689-8607-a6711f32dcaa"
      },
      "cell_type": "code",
      "source": [
        "# Upload the file to Drive. See:\n",
        "#\n",
        "# https://developers.google.com/drive/v3/reference/files/create\n",
        "# https://developers.google.com/drive/v3/web/manage-uploads\n",
        "from googleapiclient.http import MediaFileUpload\n",
        "from googleapiclient.discovery import build\n",
        "def save_file_to_drive(name, path):\n",
        "  drive_service = build('drive', 'v3')\n",
        "  file_metadata = {\n",
        "  'name': name,\n",
        "  'mimeType': 'application/octet-stream'\n",
        "  }\n",
        "  media = MediaFileUpload(path, mimetype='application/octet-stream',resumable=True)\n",
        "  created = drive_service.files().create(body=file_metadata, media_body=media,fields='id').execute()\n",
        "  print('File ID: {}'.format(created.get('id')))\n",
        "  return created\n",
        "\n",
        "save_file_to_drive('deep_autoenc.csv','/content/deep_autoenc.csv')\n",
        "!ls"
      ],
      "execution_count": 0,
      "outputs": [
        {
          "output_type": "stream",
          "text": [
            "File ID: 15C1HJ0uzLkVCj35OO7BH9pVCLGnKsrVP\n",
            "datalab  deep_autoenc.csv  tb  test_median\n"
          ],
          "name": "stdout"
        }
      ]
    },
    {
      "metadata": {
        "id": "JOz6HOgswcR7",
        "colab_type": "code",
        "colab": {}
      },
      "cell_type": "code",
      "source": [
        "  from pydrive.auth import GoogleAuth\n",
        "  from pydrive.drive import GoogleDrive\n",
        "  from google.colab import auth\n",
        "  from oauth2client.client import GoogleCredentials\n",
        "  import time\n",
        "\n",
        "  # 1. Authenticate and create the PyDrive client.\n",
        "  auth.authenticate_user()\n",
        "  gauth = GoogleAuth()\n",
        "  gauth.credentials = GoogleCredentials.get_application_default()\n",
        "  drive = GoogleDrive(gauth)\n"
      ],
      "execution_count": 0,
      "outputs": []
    },
    {
      "metadata": {
        "id": "pmFQLhMY5xVh",
        "colab_type": "code",
        "colab": {
          "base_uri": "https://localhost:8080/",
          "height": 425
        },
        "outputId": "72fe5334-02a6-4c5b-f816-9c79712710fe"
      },
      "cell_type": "code",
      "source": [
        "'''\n",
        "Understanding vstack & hstack\n",
        "'''\n",
        "import numpy as np\n",
        "a = np.array([[1,2], [3,4]])\n",
        "print(a.shape)\n",
        "print(a.flatten().shape)\n",
        "print(a)\n",
        "print(a.flatten())\n",
        "print(type(a.flatten()))\n",
        "b=np.full((3,4),2.5)\n",
        "print(b)\n",
        "print('***********************')\n",
        "a = np.array([[1,2],[2,4],[3,3]])\n",
        "print(a.shape)\n",
        "print(a)\n",
        "b = np.array([[2,4],[3,7],[4,1]])\n",
        "print(b.shape)\n",
        "print(b)\n",
        "print(np.hstack((a,b)))\n",
        "print(np.hstack((a,b)).shape)\n",
        "print(a.reshape((1,-1)).shape)\n",
        "a.reshape((1,-1))"
      ],
      "execution_count": 0,
      "outputs": [
        {
          "output_type": "stream",
          "text": [
            "(2, 2)\n",
            "(4,)\n",
            "[[1 2]\n",
            " [3 4]]\n",
            "[1 2 3 4]\n",
            "<class 'numpy.ndarray'>\n",
            "[[2.5 2.5 2.5 2.5]\n",
            " [2.5 2.5 2.5 2.5]\n",
            " [2.5 2.5 2.5 2.5]]\n",
            "***********************\n",
            "(3, 2)\n",
            "[[1 2]\n",
            " [2 4]\n",
            " [3 3]]\n",
            "(3, 2)\n",
            "[[2 4]\n",
            " [3 7]\n",
            " [4 1]]\n",
            "[[1 2 2 4]\n",
            " [2 4 3 7]\n",
            " [3 3 4 1]]\n",
            "(3, 4)\n",
            "(1, 6)\n"
          ],
          "name": "stdout"
        },
        {
          "output_type": "execute_result",
          "data": {
            "text/plain": [
              "array([[1, 2, 2, 4, 3, 3]])"
            ]
          },
          "metadata": {
            "tags": []
          },
          "execution_count": 72
        }
      ]
    }
  ]
}